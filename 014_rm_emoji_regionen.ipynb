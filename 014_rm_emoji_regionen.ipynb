{
 "cells": [
  {
   "cell_type": "markdown",
   "id": "4dfa5d96",
   "metadata": {},
   "source": [
    "# Emoji löschen – Regionen"
   ]
  },
  {
   "cell_type": "markdown",
   "id": "3637c959",
   "metadata": {},
   "source": [
    "## Pakete"
   ]
  },
  {
   "cell_type": "code",
   "execution_count": 1,
   "id": "274188cd",
   "metadata": {},
   "outputs": [],
   "source": [
    "import pandas as pd\n",
    "import numpy as np\n",
    "import demoji\n",
    "import emoji\n",
    "import string\n",
    "from functools import reduce\n",
    "import re\n",
    "import pprint"
   ]
  },
  {
   "cell_type": "markdown",
   "id": "94eecb4c",
   "metadata": {},
   "source": [
    "## Funktionen"
   ]
  },
  {
   "cell_type": "markdown",
   "id": "fccca205",
   "metadata": {},
   "source": [
    "### Tests für Regex"
   ]
  },
  {
   "cell_type": "code",
   "execution_count": 2,
   "id": "535c69de",
   "metadata": {},
   "outputs": [
    {
     "name": "stdout",
     "output_type": "stream",
     "text": [
      "ich teste es – das 9-euro-ticket.\n",
      "ich teste es  das 9-euro-ticket.\n"
     ]
    }
   ],
   "source": [
    "regex = r\"-(?!\\w)|(?<!\\w)-\"\n",
    "regex2 = r\"–(?!\\w)|(?<!\\w)–\"\n",
    "regex2 = r\"–(?!\\w)|(?<!\\w)–\"\n",
    "\n",
    "text = \"ich teste es – das 9-euro-ticket.\"\n",
    "\n",
    "print(re.sub(regex, \"\", text))\n",
    "print(re.sub(regex2, \"\", text))"
   ]
  },
  {
   "cell_type": "code",
   "execution_count": 3,
   "id": "07bc2816",
   "metadata": {},
   "outputs": [],
   "source": [
    "# hes['text'] = hes['text'].apply(lambda x: re.sub(regex, \"\", x))\n",
    "# hes['text'] = hes['text'].apply(lambda x: re.sub(regex2, \"\", x))\n",
    "# print(\"Bsp. 1: \" + hes.text[1234] + \"\\n\")\n",
    "\n",
    "# hamb['text'] = hamb['text'].apply(lambda x: re.sub(regex, \"\", x))\n",
    "# hamb['text'] = hamb['text'].apply(lambda x: re.sub(regex2, \"\", x))\n",
    "# print(\"Bsp. 1: \" + hamb.text[1234] + \"\\n\")"
   ]
  },
  {
   "cell_type": "markdown",
   "id": "2fe2c671",
   "metadata": {},
   "source": [
    "### Vorbereitung der Interpunktionsbeseitigung"
   ]
  },
  {
   "cell_type": "code",
   "execution_count": 4,
   "id": "e4a88e9e",
   "metadata": {},
   "outputs": [
    {
     "name": "stdout",
     "output_type": "stream",
     "text": [
      "Volles Set aller Satzzeichen ---> !\"#$%&'()*+,-./:;<=>?@[\\]^_`{|}~\n",
      "\n",
      "Reduziertes Set, Bindestriche und @ behalten: \n",
      "['!', '\"', '#', '$', '%', '&', \"'\", '(', ')', '*', '+', ',', '', '.', '/', ':', ';', '<', '=', '>', '?', '', '[', '\\\\', ']', '^', '_', '`', '{', '|', '}', '~']\n",
      "<class 'list'>\n"
     ]
    }
   ],
   "source": [
    "## aus einer liste einige zeichen entfernen\n",
    "def remChar(lst, char):\n",
    "    return reduce(lambda x, y: x + [re.sub(char, '', y)], lst, [])\n",
    "\n",
    "string.punctuation\n",
    "\n",
    "zeichen = remChar(string.punctuation, '@')\n",
    "zeichen = remChar(zeichen, '-')\n",
    "# zeichen = zeichen.append(\"„\")\n",
    "# zeichen = zeichen.append(\"“\")\n",
    "\n",
    "print(\"Volles Set aller Satzzeichen ---> \" + string.punctuation + \"\\n\")\n",
    "print(\"Reduziertes Set, Bindestriche und @ behalten: \")\n",
    "print(zeichen)\n",
    "print(type(zeichen))"
   ]
  },
  {
   "cell_type": "code",
   "execution_count": 5,
   "id": "3b3fcc52",
   "metadata": {},
   "outputs": [
    {
     "name": "stdout",
     "output_type": "stream",
     "text": [
      "32\n",
      "['!', '\"', '#', '$', '%', '&', \"'\", '(', ')', '*', '+', ',', '.', '/', ':', ';', '<', '=', '>', '?', '[', '\\\\', ']', '^', '_', '`', '{', '|', '}', '~', '„', '“']\n",
      "32\n"
     ]
    }
   ],
   "source": [
    "nan = ''\n",
    "\n",
    "for i in zeichen:\n",
    "    result = str(i or nan)\n",
    "type(zeichen)\n",
    "print(len(zeichen))\n",
    "\n",
    "while('' in zeichen):\n",
    "    zeichen.remove('')\n",
    "    \n",
    "zeichen.append(\"„\")\n",
    "zeichen.append(\"“\")\n",
    "\n",
    "print(zeichen)\n",
    "print(len(zeichen))\n"
   ]
  },
  {
   "cell_type": "code",
   "execution_count": 6,
   "id": "8c73a19b",
   "metadata": {},
   "outputs": [],
   "source": [
    "# aus einem objekt (dataframe) innerhalb von i zeichen entfernen, die nicht teil eines frozen sets sind\n",
    "def remPunct(s):\n",
    "    s = ''.join([i for i in s if i not in frozenset(zeichen)])\n",
    "    return s"
   ]
  },
  {
   "cell_type": "markdown",
   "id": "0499c8b1",
   "metadata": {},
   "source": [
    "## Bayern"
   ]
  },
  {
   "cell_type": "code",
   "execution_count": 7,
   "id": "01324592",
   "metadata": {},
   "outputs": [
    {
     "name": "stderr",
     "output_type": "stream",
     "text": [
      "/tmp/ipykernel_27993/3981076417.py:1: DtypeWarning: Columns (11) have mixed types. Specify dtype option on import or set low_memory=False.\n",
      "  bay = pd.read_csv(filepath_or_buffer=\"../../methods/representative-speech/regionalisierung/bayern_discPow.csv\")\n"
     ]
    }
   ],
   "source": [
    "bay = pd.read_csv(filepath_or_buffer=\"../../methods/representative-speech/regionalisierung/bayern_discPow.csv\")"
   ]
  },
  {
   "cell_type": "code",
   "execution_count": 8,
   "id": "13906e89",
   "metadata": {},
   "outputs": [
    {
     "name": "stdout",
     "output_type": "stream",
     "text": [
      "Bsp. 1: Autofahrer aus diesen Allgäuer Städten verursachen besonders viele Unfälle https://t.co/6R1yGGdisa\n",
      "\n",
      "Bsp. 2: AZ goes green: Unsere morgen erscheinende Wochenendausgabe widmet sich dem Thema #Nachhaltigkeit und präsentiert Menschen und Unternehmen in #München, die den Begriff wirklich mit Leben füllen. 💚\n",
      "Mehr Infos: ➡ https://t.co/CEu7PMyMpj https://t.co/szQPVVFwad\n",
      "\n",
      "Bsp. 3: @sundrio @StadtMuenchen @BILD_Muenchen @SZ_Muenchen @tzmuenchen @NiceBastard https://t.co/W0MET0p8sg  😉\n",
      "\n"
     ]
    }
   ],
   "source": [
    "print(\"Bsp. 1: \" + bay.content[900] + \"\\n\")\n",
    "\n",
    "print(\"Bsp. 2: \" + bay.content[0] + \"\\n\")\n",
    "\n",
    "print(\"Bsp. 3: \" + bay.content[7] + \"\\n\")\n",
    "\n",
    "## emojis und links drin, @-mentions drin"
   ]
  },
  {
   "cell_type": "code",
   "execution_count": 9,
   "id": "6072c5ca",
   "metadata": {},
   "outputs": [],
   "source": [
    "# politikR_updated['content'] = politikR_updated['content'].apply(lambda x: delemoji(x))\n",
    "bay['content'] = bay['content'].apply(lambda x: emoji.demojize(x, delimiters=('', '')))"
   ]
  },
  {
   "cell_type": "code",
   "execution_count": 10,
   "id": "4b061dcb",
   "metadata": {},
   "outputs": [
    {
     "name": "stdout",
     "output_type": "stream",
     "text": [
      "Bsp. 1: Autofahrer aus diesen Allgäuer Städten verursachen besonders viele Unfälle https://t.co/6R1yGGdisa\n",
      "\n",
      "Bsp. 2: AZ goes green: Unsere morgen erscheinende Wochenendausgabe widmet sich dem Thema #Nachhaltigkeit und präsentiert Menschen und Unternehmen in #München, die den Begriff wirklich mit Leben füllen. green_heart\n",
      "Mehr Infos: right_arrow https://t.co/CEu7PMyMpj https://t.co/szQPVVFwad\n",
      "\n",
      "Bsp. 3: @sundrio @StadtMuenchen @BILD_Muenchen @SZ_Muenchen @tzmuenchen @NiceBastard https://t.co/W0MET0p8sg  winking_face\n",
      "\n"
     ]
    }
   ],
   "source": [
    "print(\"Bsp. 1: \" + bay.content[900] + \"\\n\")\n",
    "\n",
    "print(\"Bsp. 2: \" + bay.content[0] + \"\\n\")\n",
    "\n",
    "print(\"Bsp. 3: \" + bay.content[7] + \"\\n\")\n",
    "\n",
    "## emojis draussen, links und @-mentions noch drin"
   ]
  },
  {
   "cell_type": "code",
   "execution_count": 11,
   "id": "20da42bf",
   "metadata": {},
   "outputs": [],
   "source": [
    "# interpunktion entfernen\n",
    "bay['text'] = bay['content'].apply(remPunct)\n",
    "\n",
    "# kleinbuchstaben\n",
    "bay['text'] = bay['text'].apply(lambda x: x.lower())\n",
    "\n",
    "# problematik bindestriche: nur extra-word, nicht intra-word --- manche nutzen \"-\" zwischen wörtern, manche \"–\"\n",
    "bay['text'] = bay['text'].apply(lambda x: re.sub(regex, \"\", x))\n",
    "bay['text'] = bay['text'].apply(lambda x: re.sub(regex2, \"\", x))"
   ]
  },
  {
   "cell_type": "code",
   "execution_count": 12,
   "id": "06d6a8e9",
   "metadata": {},
   "outputs": [
    {
     "name": "stdout",
     "output_type": "stream",
     "text": [
      "Bsp. 1: autofahrer aus diesen allgäuer städten verursachen besonders viele unfälle httpstco6r1yggdisa\n",
      "\n",
      "Bsp. 2: az goes green unsere morgen erscheinende wochenendausgabe widmet sich dem thema nachhaltigkeit und präsentiert menschen und unternehmen in münchen die den begriff wirklich mit leben füllen greenheart\n",
      "mehr infos rightarrow httpstcoceu7pmympj httpstcoszqpvvfwad\n",
      "\n",
      "Bsp. 3: @sundrio @stadtmuenchen @bildmuenchen @szmuenchen @tzmuenchen @nicebastard httpstcow0met0p8sg  winkingface\n",
      "\n"
     ]
    }
   ],
   "source": [
    "print(\"Bsp. 1: \" + bay.text[900] + \"\\n\")\n",
    "\n",
    "print(\"Bsp. 2: \" + bay.text[0] + \"\\n\")\n",
    "\n",
    "print(\"Bsp. 3: \" + bay.text[7] + \"\\n\")\n",
    "\n",
    "## emojis draussen, links und @-mentions noch drin"
   ]
  },
  {
   "cell_type": "code",
   "execution_count": 13,
   "id": "8d561e2b",
   "metadata": {},
   "outputs": [],
   "source": [
    "bay.to_csv(\"../../methods/representative-speech/regionalisierung/demojized/bayern_demojized.csv\")"
   ]
  },
  {
   "cell_type": "markdown",
   "id": "467b0755",
   "metadata": {},
   "source": [
    "## BaWü"
   ]
  },
  {
   "cell_type": "code",
   "execution_count": 14,
   "id": "2cbd84c0",
   "metadata": {},
   "outputs": [
    {
     "data": {
      "text/plain": [
       "0         Nach der vierten Niederlage in Reihe rückt die...\n",
       "1         Baden-Württemberg war bundesweit damit die zwe...\n",
       "2         Bei der Landung auf dem Flugplatz in Rheinstet...\n",
       "3         Das Ausländeramt in Rastatt ist überlastet. Au...\n",
       "4         Erneut hat ein Hochzeitskorso in Karlsruhe den...\n",
       "                                ...                        \n",
       "120898    @everfight6969 unserer morgigen Ausgabe tun we...\n",
       "120899    @everfight6969 in einem Maß erscheinen dürfen,...\n",
       "120900    @everfight6969 dafür, dass der Leserbrief durc...\n",
       "120901    @everfight6969 Liebe @everfight6969,\\nder ZOLL...\n",
       "120902    @InkassoHeinzi @AlbOffensive Ist (zigfach) gel...\n",
       "Name: content, Length: 120903, dtype: object"
      ]
     },
     "execution_count": 14,
     "metadata": {},
     "output_type": "execute_result"
    }
   ],
   "source": [
    "bawü = pd.read_csv(filepath_or_buffer=\"../../methods/representative-speech/regionalisierung/bawü_discPow.csv\")\n",
    "bawü.content"
   ]
  },
  {
   "cell_type": "code",
   "execution_count": 15,
   "id": "a71aa2ba",
   "metadata": {},
   "outputs": [
    {
     "name": "stdout",
     "output_type": "stream",
     "text": [
      "Bsp. 1: 👨‍🍳 Eine Einrichtung mit viel Holz, auf der Speisekarte Schlutzkrapfen und ein Küchenchef mit Schweizer Prägung. Nein, wir sind nicht in den Alpen, sondern im Kraichgau.  https://t.co/Vqo8eEo2D6\n",
      "\n",
      "Bsp. 2: @Bebone76 @Placebox Aber vielleicht ist das auch des Rätsels Lösung, wir bleiben dran!\n",
      "\n",
      "Bsp. 3: Die Apotheker sind skeptisch. Mit dem Verkauf von Cannabis wähnen sie sich in der Nähe zum Drogenmilieu. Einer sagt: Da können wir auch Kokain verkaufen.\n",
      "https://t.co/zpXLLVVndZ\n",
      "\n"
     ]
    }
   ],
   "source": [
    "print(\"Bsp. 1: \" + bawü.content[13] + \"\\n\")\n",
    "\n",
    "print(\"Bsp. 2: \" + bawü.content[397] + \"\\n\")\n",
    "\n",
    "print(\"Bsp. 3: \" + bawü.content[7] + \"\\n\")\n",
    "\n",
    "## emojis und links drin, @-mentions drin"
   ]
  },
  {
   "cell_type": "code",
   "execution_count": 16,
   "id": "de122899",
   "metadata": {},
   "outputs": [],
   "source": [
    "# politikR_updated['content'] = politikR_updated['content'].apply(lambda x: delemoji(x))\n",
    "bawü['content'] = bawü['content'].apply(lambda x: emoji.demojize(x, delimiters=('', '')))"
   ]
  },
  {
   "cell_type": "code",
   "execution_count": 17,
   "id": "34a440a3",
   "metadata": {},
   "outputs": [
    {
     "name": "stdout",
     "output_type": "stream",
     "text": [
      "Bsp. 1: man_cook Eine Einrichtung mit viel Holz, auf der Speisekarte Schlutzkrapfen und ein Küchenchef mit Schweizer Prägung. Nein, wir sind nicht in den Alpen, sondern im Kraichgau.  https://t.co/Vqo8eEo2D6\n",
      "\n",
      "Bsp. 2: @Bebone76 @Placebox Aber vielleicht ist das auch des Rätsels Lösung, wir bleiben dran!\n",
      "\n",
      "Bsp. 3: Die Apotheker sind skeptisch. Mit dem Verkauf von Cannabis wähnen sie sich in der Nähe zum Drogenmilieu. Einer sagt: Da können wir auch Kokain verkaufen.\n",
      "https://t.co/zpXLLVVndZ\n",
      "\n"
     ]
    }
   ],
   "source": [
    "print(\"Bsp. 1: \" + bawü.content[13] + \"\\n\")\n",
    "\n",
    "print(\"Bsp. 2: \" + bawü.content[397] + \"\\n\")\n",
    "\n",
    "print(\"Bsp. 3: \" + bawü.content[7] + \"\\n\")\n",
    "\n",
    "## emojis raus, links und @s drin"
   ]
  },
  {
   "cell_type": "code",
   "execution_count": 18,
   "id": "9474639f",
   "metadata": {},
   "outputs": [],
   "source": [
    "# interpunktion entfernen\n",
    "bawü['text'] = bawü['content'].apply(remPunct)\n",
    "\n",
    "# kleinbuchstaben\n",
    "bawü['text'] = bawü['text'].apply(lambda x: x.lower())\n",
    "\n",
    "# problematik bindestriche: nur extra-word, nicht intra-word --- manche nutzen \"-\" zwischen wörtern, manche \"–\"\n",
    "bawü['text'] = bawü['text'].apply(lambda x: re.sub(regex, \"\", x))\n",
    "bawü['text'] = bawü['text'].apply(lambda x: re.sub(regex2, \"\", x))"
   ]
  },
  {
   "cell_type": "code",
   "execution_count": 19,
   "id": "c69282aa",
   "metadata": {},
   "outputs": [
    {
     "name": "stdout",
     "output_type": "stream",
     "text": [
      "Bsp. 1: mancook eine einrichtung mit viel holz auf der speisekarte schlutzkrapfen und ein küchenchef mit schweizer prägung nein wir sind nicht in den alpen sondern im kraichgau  httpstcovqo8eeo2d6\n",
      "\n",
      "Bsp. 2: @bebone76 @placebox aber vielleicht ist das auch des rätsels lösung wir bleiben dran\n",
      "\n",
      "Bsp. 3: die apotheker sind skeptisch mit dem verkauf von cannabis wähnen sie sich in der nähe zum drogenmilieu einer sagt da können wir auch kokain verkaufen\n",
      "httpstcozpxllvvndz\n",
      "\n"
     ]
    }
   ],
   "source": [
    "print(\"Bsp. 1: \" + bawü.text[13] + \"\\n\")\n",
    "\n",
    "print(\"Bsp. 2: \" + bawü.text[397] + \"\\n\")\n",
    "\n",
    "print(\"Bsp. 3: \" + bawü.text[7] + \"\\n\")\n",
    "\n",
    "## emojis draussen, satzzeichen reduziert, kleinbuchstaben"
   ]
  },
  {
   "cell_type": "code",
   "execution_count": 20,
   "id": "3ce7c7a4",
   "metadata": {},
   "outputs": [],
   "source": [
    "bawü.to_csv(\"../../methods/representative-speech/regionalisierung/demojized/bawü_demojized.csv\")"
   ]
  },
  {
   "cell_type": "markdown",
   "id": "e1c5f4ed",
   "metadata": {},
   "source": [
    "## Berlin"
   ]
  },
  {
   "cell_type": "code",
   "execution_count": 21,
   "id": "81fb07cd",
   "metadata": {},
   "outputs": [
    {
     "data": {
      "text/plain": [
       "0         Der Oktober war warm... zu warm? Sonne und mil...\n",
       "1         Nachdem der Bürgermeister von Marzahn-Hellersd...\n",
       "2         Wer einmal einen Blick hinter die Leinwand wer...\n",
       "3         Um die angestrebte Mobilitätswende voranzubrin...\n",
       "4         Instandsetzung der Paulsternstraße in #Spandau...\n",
       "                                ...                        \n",
       "104327    Herzlichen Glückwunsch auch von uns @derspiegel !\n",
       "104328    Wir haben derzeit leider technische Probleme m...\n",
       "104329    Im kommenden Jahr gibt es eine Reihe von Verän...\n",
       "104330    Unser erstes Zitat der Woche im neuen Jahr ist...\n",
       "104331    Wir wünschen euch ein frohes neues Jahr! https...\n",
       "Name: content, Length: 104332, dtype: object"
      ]
     },
     "execution_count": 21,
     "metadata": {},
     "output_type": "execute_result"
    }
   ],
   "source": [
    "berl = pd.read_csv(filepath_or_buffer=\"../../methods/representative-speech/regionalisierung/berlin_discPow.csv\")\n",
    "berl.content"
   ]
  },
  {
   "cell_type": "code",
   "execution_count": 22,
   "id": "6a53c5d7",
   "metadata": {},
   "outputs": [
    {
     "name": "stdout",
     "output_type": "stream",
     "text": [
      "Bsp. 1: Traurige Neuigkeiten vom @zooberlin: Der 16 Jahre alte Sibirische Tiger #Darius 🐯 musste eingeschläfert werden.\n",
      "\n",
      "https://t.co/7m97f82tAq\n",
      "\n"
     ]
    }
   ],
   "source": [
    "print(\"Bsp. 1: \" + berl.content[24] + \"\\n\")"
   ]
  },
  {
   "cell_type": "code",
   "execution_count": 23,
   "id": "5eff3844",
   "metadata": {},
   "outputs": [],
   "source": [
    "berl['content'] = berl['content'].apply(lambda x: emoji.demojize(x, delimiters=('', '')))"
   ]
  },
  {
   "cell_type": "code",
   "execution_count": 24,
   "id": "175dd053",
   "metadata": {},
   "outputs": [
    {
     "name": "stdout",
     "output_type": "stream",
     "text": [
      "Bsp. 1: Traurige Neuigkeiten vom @zooberlin: Der 16 Jahre alte Sibirische Tiger #Darius tiger_face musste eingeschläfert werden.\n",
      "\n",
      "https://t.co/7m97f82tAq\n",
      "\n"
     ]
    }
   ],
   "source": [
    "print(\"Bsp. 1: \" + berl.content[24] + \"\\n\")"
   ]
  },
  {
   "cell_type": "code",
   "execution_count": 25,
   "id": "57b55198",
   "metadata": {},
   "outputs": [],
   "source": [
    "# interpunktion entfernen\n",
    "berl['text'] = berl['content'].apply(remPunct)\n",
    "\n",
    "# kleinbuchstaben\n",
    "berl['text'] = berl['text'].apply(lambda x: x.lower())\n",
    "\n",
    "# problematik bindestriche: nur extra-word, nicht intra-word --- manche nutzen \"-\" zwischen wörtern, manche \"–\"\n",
    "berl['text'] = berl['text'].apply(lambda x: re.sub(regex, \"\", x))\n",
    "berl['text'] = berl['text'].apply(lambda x: re.sub(regex2, \"\", x))"
   ]
  },
  {
   "cell_type": "code",
   "execution_count": 26,
   "id": "a2dc9708",
   "metadata": {},
   "outputs": [
    {
     "name": "stdout",
     "output_type": "stream",
     "text": [
      "Bsp. 1: traurige neuigkeiten vom @zooberlin der 16 jahre alte sibirische tiger darius tigerface musste eingeschläfert werden\n",
      "\n",
      "httpstco7m97f82taq\n",
      "\n"
     ]
    }
   ],
   "source": [
    "print(\"Bsp. 1: \" + berl.text[24] + \"\\n\")"
   ]
  },
  {
   "cell_type": "code",
   "execution_count": 27,
   "id": "2edec9d4",
   "metadata": {},
   "outputs": [],
   "source": [
    "berl.to_csv(\"../../methods/representative-speech/regionalisierung/demojized/berlin_demojized.csv\")"
   ]
  },
  {
   "cell_type": "markdown",
   "id": "5bc0e54b",
   "metadata": {},
   "source": [
    "## Brandenburg"
   ]
  },
  {
   "cell_type": "code",
   "execution_count": 28,
   "id": "f9c73fe5",
   "metadata": {},
   "outputs": [
    {
     "data": {
      "text/plain": [
       "0        In den Abendstunden herrscht zwischen #Forstla...\n",
       "1        @Bundeskanzler #OlafScholz will die #BASF in #...\n",
       "2        DNS:NET will Luckauer Haushalte ans #Glasfaser...\n",
       "3        Energie Cottbus rückt in der Regionalliga Nord...\n",
       "4        Bis im Cottbuser Ostsee gebadet werden kann, d...\n",
       "                               ...                        \n",
       "16136    @ABaerbock on Ice, Joop trifft Queen und @Olaf...\n",
       "16137    Für heute sind in #Potsdam erneut Demonstratio...\n",
       "16138    Nach einer Massenkündigung könnte die Josephin...\n",
       "16139    Das wird 2022 wichtig in #Potsdam: Das Museum ...\n",
       "16140    Die Biosphäre in #Potsdam soll attraktiver für...\n",
       "Name: content, Length: 16141, dtype: object"
      ]
     },
     "execution_count": 28,
     "metadata": {},
     "output_type": "execute_result"
    }
   ],
   "source": [
    "bran = pd.read_csv(filepath_or_buffer=\"../../methods/representative-speech/regionalisierung/brandenburg_discPow.csv\")\n",
    "bran.content"
   ]
  },
  {
   "cell_type": "code",
   "execution_count": 29,
   "id": "27463014",
   "metadata": {},
   "outputs": [
    {
     "name": "stdout",
     "output_type": "stream",
     "text": [
      "Bsp. 1: @Bundeskanzler #OlafScholz will die #BASF in #Schwarzheide besuchen. Dabei trifft er auf Konzernchef Martin Brudermüller. Dieser hatte jüngst vor einem „China-Bashing“ gewarnt und wegen schlechter Geschäfte ein Sparprogramm ankündigt. https://t.co/u9UGuJNMcV\n",
      "\n"
     ]
    }
   ],
   "source": [
    "print(\"Bsp. 1: \" + bran.content[1] + \"\\n\")"
   ]
  },
  {
   "cell_type": "code",
   "execution_count": 30,
   "id": "4801e5d2",
   "metadata": {},
   "outputs": [],
   "source": [
    "# demojize\n",
    "bran['content'] = bran['content'].apply(lambda x: emoji.demojize(x, delimiters=('', '')))\n",
    "\n",
    "# interpunktion entfernen\n",
    "bran['text'] = bran['content'].apply(remPunct)\n",
    "\n",
    "# kleinbuchstaben\n",
    "bran['text'] = bran['text'].apply(lambda x: x.lower())\n",
    "\n",
    "# problematik bindestriche: nur extra-word, nicht intra-word --- manche nutzen \"-\" zwischen wörtern, manche \"–\"\n",
    "bran['text'] = bran['text'].apply(lambda x: re.sub(regex, \"\", x))\n",
    "bran['text'] = bran['text'].apply(lambda x: re.sub(regex2, \"\", x))"
   ]
  },
  {
   "cell_type": "code",
   "execution_count": 31,
   "id": "6fa9b146",
   "metadata": {},
   "outputs": [
    {
     "name": "stdout",
     "output_type": "stream",
     "text": [
      "Bsp. 1: @bundeskanzler olafscholz will die basf in schwarzheide besuchen dabei trifft er auf konzernchef martin brudermüller dieser hatte jüngst vor einem china-bashing gewarnt und wegen schlechter geschäfte ein sparprogramm ankündigt httpstcou9ugujnmcv\n",
      "\n"
     ]
    }
   ],
   "source": [
    "print(\"Bsp. 1: \" + bran.text[1] + \"\\n\")"
   ]
  },
  {
   "cell_type": "code",
   "execution_count": 32,
   "id": "991f79c7",
   "metadata": {},
   "outputs": [],
   "source": [
    "bran.to_csv(\"../../methods/representative-speech/regionalisierung/demojized/brandenburg_demojized.csv\")"
   ]
  },
  {
   "cell_type": "markdown",
   "id": "07f2d595",
   "metadata": {},
   "source": [
    "## Bremen"
   ]
  },
  {
   "cell_type": "code",
   "execution_count": 33,
   "id": "d42b648f",
   "metadata": {},
   "outputs": [],
   "source": [
    "bremen = pd.read_csv(filepath_or_buffer=\"../../methods/representative-speech/regionalisierung/bremen_discPow.csv\")"
   ]
  },
  {
   "cell_type": "code",
   "execution_count": 34,
   "id": "12bfba89",
   "metadata": {},
   "outputs": [
    {
     "name": "stdout",
     "output_type": "stream",
     "text": [
      "Bsp. 1: Das ist Antti #Tyrväinen #Finnland von den @FT_Pinguins #Bremerhaven - vor dem Spiel gegen @DuesseldorferEG\n",
      "https://t.co/TfZpRTDsC6\n",
      "\n",
      "Bsp. 1: das ist antti tyrväinen finnland von den @ftpinguins bremerhaven  vor dem spiel gegen @duesseldorfereg\n",
      "httpstcotfzprtdsc6\n",
      "\n"
     ]
    }
   ],
   "source": [
    "print(\"Bsp. 1: \" + bremen.content[2] + \"\\n\")\n",
    "\n",
    "# demojize\n",
    "bremen['content'] = bremen['content'].apply(lambda x: emoji.demojize(x, delimiters=('', '')))\n",
    "\n",
    "# interpunktion entfernen\n",
    "bremen['text'] = bremen['content'].apply(remPunct)\n",
    "\n",
    "# kleinbuchstaben\n",
    "bremen['text'] = bremen['text'].apply(lambda x: x.lower())\n",
    "\n",
    "# problematik bindestriche: nur extra-word, nicht intra-word --- manche nutzen \"-\" zwischen wörtern, manche \"–\"\n",
    "bremen['text'] = bremen['text'].apply(lambda x: re.sub(regex, \"\", x))\n",
    "bremen['text'] = bremen['text'].apply(lambda x: re.sub(regex2, \"\", x))\n",
    "\n",
    "print(\"Bsp. 1: \" + bremen.text[2] + \"\\n\")"
   ]
  },
  {
   "cell_type": "code",
   "execution_count": 35,
   "id": "5222fab2",
   "metadata": {},
   "outputs": [],
   "source": [
    "bremen.to_csv(\"../../methods/representative-speech/regionalisierung/demojized/bremen_demojized.csv\")"
   ]
  },
  {
   "cell_type": "markdown",
   "id": "4104480c",
   "metadata": {},
   "source": [
    "## Hamburg"
   ]
  },
  {
   "cell_type": "code",
   "execution_count": 36,
   "id": "035bea17",
   "metadata": {},
   "outputs": [
    {
     "name": "stderr",
     "output_type": "stream",
     "text": [
      "/tmp/ipykernel_27993/2063053468.py:1: DtypeWarning: Columns (11,12) have mixed types. Specify dtype option on import or set low_memory=False.\n",
      "  hamb = pd.read_csv(filepath_or_buffer=\"../../methods/representative-speech/regionalisierung/hamburg_discPow.csv\")\n"
     ]
    },
    {
     "data": {
      "text/plain": [
       "0        Proteste gegen Energiepolitik in MV: Weniger L...\n",
       "1        Forschungsministerin Stark-Watzinger tauft Sch...\n",
       "2        Neu Wulmstorf: Wenn der Postmann nicht mehr kl...\n",
       "3        Sieg im Abstiegskampf: Osnabrück besiegt Halle...\n",
       "4        Motorradfahrer fährt in Gegenverkehr und stirb...\n",
       "                               ...                        \n",
       "54017    60.000-Euro-Flop mit Imbiss: „Ich stehe vor de...\n",
       "54018    Beatmung wegen Stromausfalls gefährdet: Hambur...\n",
       "54019    Bei privater Silvesterfeier: Mann stirbt auf M...\n",
       "54020    Horoskop heute: So stehen die Sterne am 1. Jan...\n",
       "54021    Polizei und Feuerwehr im Silvester-Einsatz: So...\n",
       "Name: content, Length: 54022, dtype: object"
      ]
     },
     "execution_count": 36,
     "metadata": {},
     "output_type": "execute_result"
    }
   ],
   "source": [
    "hamb = pd.read_csv(filepath_or_buffer=\"../../methods/representative-speech/regionalisierung/hamburg_discPow.csv\")\n",
    "hamb.content"
   ]
  },
  {
   "cell_type": "code",
   "execution_count": 37,
   "id": "23403eaf",
   "metadata": {},
   "outputs": [
    {
     "name": "stdout",
     "output_type": "stream",
     "text": [
      "Bsp. 1: Elbphilharmonie: Irgendwann gibt der Verstand auf – und die Freude übernimmt https://t.co/YnD2byCBLc https://t.co/G8JsPKiZL6\n",
      "\n",
      "Bsp. 1: elbphilharmonie irgendwann gibt der verstand auf  und die freude übernimmt httpstcoynd2bycblc httpstcog8jspkizl6\n",
      "\n"
     ]
    }
   ],
   "source": [
    "print(\"Bsp. 1: \" + hamb.content[1234] + \"\\n\")\n",
    "\n",
    "# demojize\n",
    "hamb['content'] = hamb['content'].apply(lambda x: emoji.demojize(x, delimiters=('', '')))\n",
    "\n",
    "# interpunktion entfernen\n",
    "hamb['text'] = hamb['content'].apply(remPunct)\n",
    "\n",
    "# kleinbuchstaben\n",
    "hamb['text'] = hamb['text'].apply(lambda x: x.lower())\n",
    "\n",
    "# problematik bindestriche: nur extra-word, nicht intra-word --- manche nutzen \"-\" zwischen wörtern, manche \"–\"\n",
    "hamb['text'] = hamb['text'].apply(lambda x: re.sub(regex, \"\", x))\n",
    "hamb['text'] = hamb['text'].apply(lambda x: re.sub(regex2, \"\", x))\n",
    "\n",
    "print(\"Bsp. 1: \" + hamb.text[1234] + \"\\n\")"
   ]
  },
  {
   "cell_type": "code",
   "execution_count": 38,
   "id": "8c4be426",
   "metadata": {},
   "outputs": [],
   "source": [
    "hamb.to_csv(\"../../methods/representative-speech/regionalisierung/demojized/hamburg_demojized.csv\")"
   ]
  },
  {
   "cell_type": "markdown",
   "id": "668158d1",
   "metadata": {},
   "source": [
    "## Hessen"
   ]
  },
  {
   "cell_type": "code",
   "execution_count": 39,
   "id": "42e61e74",
   "metadata": {},
   "outputs": [
    {
     "data": {
      "text/plain": [
       "0        Die Stimmung in #Banken &amp; #Sparkassen ist ...\n",
       "1        Die Chefin der von der gleichnamigen #Fluggese...\n",
       "2        Die #Zinswende nimmt Fahrt auf. Das zeigt die ...\n",
       "3        Die #Euro-#Wirtschaft hat im Sommer zwar an Sc...\n",
       "4        Die schleppende Aufarbeitung des #CumEx-Komple...\n",
       "                               ...                        \n",
       "49633    Von Winter bislang kaum etwas zu spüren: In He...\n",
       "49634    57 Zentimeter groß und 4040 Gramm schwer: Um 0...\n",
       "49635    Weniger Lärm, weniger umweltschädlicher Feinst...\n",
       "49636    Als sie einen flüchtenden Schreckschuss-Schütz...\n",
       "49637    Die Silvesternacht in Hessen ist laut Polizei ...\n",
       "Name: content, Length: 49638, dtype: object"
      ]
     },
     "execution_count": 39,
     "metadata": {},
     "output_type": "execute_result"
    }
   ],
   "source": [
    "hes = pd.read_csv(filepath_or_buffer=\"../../methods/representative-speech/regionalisierung/hessen_discPow.csv\")\n",
    "hes.content"
   ]
  },
  {
   "cell_type": "code",
   "execution_count": 40,
   "id": "377ef7f4",
   "metadata": {},
   "outputs": [
    {
     "name": "stdout",
     "output_type": "stream",
     "text": [
      "Bsp. 1: In Deutschland werden weiterhin weniger #PKW zugelassen. Aber die Produktivität nimmt wieder zu - ein kleiner Lichtblick nach langer Durststrecke auf dem #Automarkt.\n",
      "https://t.co/s6NMKlORsy https://t.co/nnHk426nKG\n",
      "\n",
      "Bsp. 1: in deutschland werden weiterhin weniger pkw zugelassen aber die produktivität nimmt wieder zu  ein kleiner lichtblick nach langer durststrecke auf dem automarkt\n",
      "httpstcos6nmklorsy httpstconnhk426nkg\n",
      "\n"
     ]
    }
   ],
   "source": [
    "print(\"Bsp. 1: \" + hes.content[1234] + \"\\n\")\n",
    "\n",
    "# demojize\n",
    "hes['content'] = hes['content'].apply(lambda x: emoji.demojize(x, delimiters=('', '')))\n",
    "\n",
    "# interpunktion entfernen\n",
    "hes['text'] = hes['content'].apply(remPunct)\n",
    "\n",
    "# kleinbuchstaben\n",
    "hes['text'] = hes['text'].apply(lambda x: x.lower())\n",
    "\n",
    "# problematik bindestriche: nur extra-word, nicht intra-word --- manche nutzen \"-\" zwischen wörtern, manche \"–\"\n",
    "hes['text'] = hes['text'].apply(lambda x: re.sub(regex, \"\", x))\n",
    "hes['text'] = hes['text'].apply(lambda x: re.sub(regex2, \"\", x))\n",
    "\n",
    "print(\"Bsp. 1: \" + hes.text[1234] + \"\\n\")"
   ]
  },
  {
   "cell_type": "code",
   "execution_count": 41,
   "id": "530e5c0c",
   "metadata": {},
   "outputs": [],
   "source": [
    "hes.to_csv(\"../../methods/representative-speech/regionalisierung/demojized/hessen_demojized.csv\")"
   ]
  },
  {
   "cell_type": "markdown",
   "id": "5e19f6fe",
   "metadata": {},
   "source": [
    "## Mecklenburg-Vorpommern"
   ]
  },
  {
   "cell_type": "code",
   "execution_count": 42,
   "id": "69d50c61",
   "metadata": {},
   "outputs": [
    {
     "data": {
      "text/plain": [
       "0       Auch am Reformationstag gibt es wieder Montags...\n",
       "1       #Böllern zu #Silvester - es bleibt ein Dauerbr...\n",
       "2       Das EU- und Nato-Land #Polen rüstet massiv geg...\n",
       "3       Eine Entbindung bei #Blackout: Die Templiner F...\n",
       "4       Erst kommt die #Feuerwehr, die holt aber schne...\n",
       "                              ...                        \n",
       "6515    Mecklenburg-Vorpommerns Ministerpräsidentin Ma...\n",
       "6516    Seit Längerem sinkt die Zahl der Apotheken in ...\n",
       "6517    Michael Kasten ist einer der vielen Quereinste...\n",
       "6518    Ob neuer Job oder zum fünften Mal Oma geworden...\n",
       "6519    Arbeiten, wo andere Urlaub machen: Das ist das...\n",
       "Name: content, Length: 6520, dtype: object"
      ]
     },
     "execution_count": 42,
     "metadata": {},
     "output_type": "execute_result"
    }
   ],
   "source": [
    "mvp = pd.read_csv(filepath_or_buffer=\"../../methods/representative-speech/regionalisierung/meckPomm_discPow.csv\")\n",
    "mvp.content"
   ]
  },
  {
   "cell_type": "code",
   "execution_count": 43,
   "id": "a79c6201",
   "metadata": {},
   "outputs": [
    {
     "name": "stdout",
     "output_type": "stream",
     "text": [
      "Bsp. 1: Mit Schneefall ist am #Montag kaum noch zu rechnen. Dafür wird es in den Nächten richtig knackig kalt. Strenger Frost und Glatteis sind angesagt.\n",
      "https://t.co/IJgXm0ksY3\n",
      "#Wetter\n",
      "\n",
      "Bsp. 1: mit schneefall ist am montag kaum noch zu rechnen dafür wird es in den nächten richtig knackig kalt strenger frost und glatteis sind angesagt\n",
      "httpstcoijgxm0ksy3\n",
      "wetter\n",
      "\n"
     ]
    }
   ],
   "source": [
    "print(\"Bsp. 1: \" + mvp.content[1234] + \"\\n\")\n",
    "\n",
    "# demojize\n",
    "mvp['content'] = mvp['content'].apply(lambda x: emoji.demojize(x, delimiters=('', '')))\n",
    "\n",
    "# interpunktion entfernen\n",
    "mvp['text'] = mvp['content'].apply(remPunct)\n",
    "\n",
    "# kleinbuchstaben\n",
    "mvp['text'] = mvp['text'].apply(lambda x: x.lower())\n",
    "\n",
    "# problematik bindestriche: nur extra-word, nicht intra-word --- manche nutzen \"-\" zwischen wörtern, manche \"–\"\n",
    "mvp['text'] = mvp['text'].apply(lambda x: re.sub(regex, \"\", x))\n",
    "mvp['text'] = mvp['text'].apply(lambda x: re.sub(regex2, \"\", x))\n",
    "\n",
    "print(\"Bsp. 1: \" + mvp.text[1234] + \"\\n\")"
   ]
  },
  {
   "cell_type": "code",
   "execution_count": 44,
   "id": "f757da7e",
   "metadata": {},
   "outputs": [],
   "source": [
    "mvp.to_csv(\"../../methods/representative-speech/regionalisierung/demojized/meckPomm_demojized.csv\")"
   ]
  },
  {
   "cell_type": "markdown",
   "id": "a7de2468",
   "metadata": {},
   "source": [
    "## Niedersachsen"
   ]
  },
  {
   "cell_type": "code",
   "execution_count": 45,
   "id": "d1be163a",
   "metadata": {},
   "outputs": [
    {
     "name": "stderr",
     "output_type": "stream",
     "text": [
      "/tmp/ipykernel_27993/2615766035.py:1: DtypeWarning: Columns (11) have mixed types. Specify dtype option on import or set low_memory=False.\n",
      "  nds = pd.read_csv(filepath_or_buffer=\"../../methods/representative-speech/regionalisierung/niedersachsen_discPow.csv\")\n"
     ]
    },
    {
     "data": {
      "text/plain": [
       "0         Wenn am Dienstag der Kanzler kommt: Parkverbot...\n",
       "1         Wenn am Dienstag der Kanzler kommt: Parkverbot...\n",
       "2         Corona in Gifhorn und Niedersachsen: Aktuelle ...\n",
       "3         Halloween: Hier ist was los im Kreis Gifhorn h...\n",
       "4         Was man im Kreis Gifhorn am Feiertag alles unt...\n",
       "                                ...                        \n",
       "142680    Silvesternacht größtenteils ruhig in Niedersac...\n",
       "142681    Neujahr: Keine neue Corona-Infektionen in Wolf...\n",
       "142682    Fußgänger stirbt nach Unfall mit Notarztwagen ...\n",
       "142683    Gasflasche explodiert bei Feier – Mann erleide...\n",
       "142684    Prozess um VW-Dieselskandal: Immer weniger int...\n",
       "Name: content, Length: 142685, dtype: object"
      ]
     },
     "execution_count": 45,
     "metadata": {},
     "output_type": "execute_result"
    }
   ],
   "source": [
    "nds = pd.read_csv(filepath_or_buffer=\"../../methods/representative-speech/regionalisierung/niedersachsen_discPow.csv\")\n",
    "nds.content"
   ]
  },
  {
   "cell_type": "code",
   "execution_count": 46,
   "id": "03101d27",
   "metadata": {},
   "outputs": [
    {
     "name": "stdout",
     "output_type": "stream",
     "text": [
      "Bsp. 1: Spargelsaison im Kreis Gifhorn: Diese Bilanz ziehen die Bauern für 2022 https://t.co/T5LvYhis6K\n",
      "\n",
      "Bsp. 1: spargelsaison im kreis gifhorn diese bilanz ziehen die bauern für 2022 httpstcot5lvyhis6k\n",
      "\n"
     ]
    }
   ],
   "source": [
    "print(\"Bsp. 1: \" + nds.content[1234] + \"\\n\")\n",
    "\n",
    "# demojize\n",
    "nds['content'] = nds['content'].apply(lambda x: emoji.demojize(x, delimiters=('', '')))\n",
    "\n",
    "# interpunktion entfernen\n",
    "nds['text'] = nds['content'].apply(remPunct)\n",
    "\n",
    "# kleinbuchstaben\n",
    "nds['text'] = nds['text'].apply(lambda x: x.lower())\n",
    "\n",
    "# problematik bindestriche: nur extra-word, nicht intra-word --- manche nutzen \"-\" zwischen wörtern, manche \"–\"\n",
    "nds['text'] = nds['text'].apply(lambda x: re.sub(regex, \"\", x))\n",
    "nds['text'] = nds['text'].apply(lambda x: re.sub(regex2, \"\", x))\n",
    "\n",
    "print(\"Bsp. 1: \" + nds.text[1234] + \"\\n\")"
   ]
  },
  {
   "cell_type": "code",
   "execution_count": 47,
   "id": "ecde7a71",
   "metadata": {},
   "outputs": [],
   "source": [
    "nds.to_csv(\"../../methods/representative-speech/regionalisierung/demojized/niedersachsen_demojized.csv\")"
   ]
  },
  {
   "cell_type": "markdown",
   "id": "9ca7cd23",
   "metadata": {},
   "source": [
    "## Nordrhein-Westfalen"
   ]
  },
  {
   "cell_type": "code",
   "execution_count": 48,
   "id": "e6b80117",
   "metadata": {},
   "outputs": [
    {
     "data": {
      "text/plain": [
       "0         Maßnahmen nach Rennen im Ludwig-Erhardt-Ring, ...\n",
       "1         Wie sich die Stadt Aachen auf einen längeren S...\n",
       "2         Mario Corradi inszeniert, Chanmin Chung dirigi...\n",
       "3         Wegen Steuerhinterziehung, Untreue und Betrugs...\n",
       "4         Anwohner in Aachen sind am frühen Morgen manch...\n",
       "                                ...                        \n",
       "167429    Das Wuppertaler Polizeipräsidium ist wieder un...\n",
       "167430    Der kleine Francesco erblickte am Neujahrstag ...\n",
       "167431    Wuppertaler Polizei ist momentan über die Tele...\n",
       "167432    Anderthalb Jahre nach dem Ende von Müllers Mar...\n",
       "167433    Bilanz der Polizei - ruhige Silvesternacht in ...\n",
       "Name: content, Length: 167434, dtype: object"
      ]
     },
     "execution_count": 48,
     "metadata": {},
     "output_type": "execute_result"
    }
   ],
   "source": [
    "nrw = pd.read_csv(filepath_or_buffer=\"../../methods/representative-speech/regionalisierung/nrw_discPow.csv\")\n",
    "nrw.content"
   ]
  },
  {
   "cell_type": "code",
   "execution_count": 49,
   "id": "ac551633",
   "metadata": {},
   "outputs": [
    {
     "name": "stdout",
     "output_type": "stream",
     "text": [
      "Bsp. 1: Wollte eigentlich mit tollen Korzuscheck-Wortspielen arbeiten, muss nun aber vom Verlieren schreiben: die Netzschau vom Spiel der Alemannia gegen die U23 von Borussia Mönchengladbach. 😔\n",
      "https://t.co/fPVXDIl1np\n",
      "\n",
      "Bsp. 1: wollte eigentlich mit tollen korzuscheck-wortspielen arbeiten muss nun aber vom verlieren schreiben die netzschau vom spiel der alemannia gegen die u23 von borussia mönchengladbach pensiveface\n",
      "httpstcofpvxdil1np\n",
      "\n"
     ]
    }
   ],
   "source": [
    "print(\"Bsp. 1: \" + nrw.content[1234] + \"\\n\")\n",
    "\n",
    "# demojize\n",
    "nrw['content'] = nrw['content'].apply(lambda x: emoji.demojize(x, delimiters=('', '')))\n",
    "\n",
    "# interpunktion entfernen\n",
    "nrw['text'] = nrw['content'].apply(remPunct)\n",
    "\n",
    "# kleinbuchstaben\n",
    "nrw['text'] = nrw['text'].apply(lambda x: x.lower())\n",
    "\n",
    "# problematik bindestriche: nur extra-word, nicht intra-word --- manche nutzen \"-\" zwischen wörtern, manche \"–\"\n",
    "nrw['text'] = nrw['text'].apply(lambda x: re.sub(regex, \"\", x))\n",
    "nrw['text'] = nrw['text'].apply(lambda x: re.sub(regex2, \"\", x))\n",
    "\n",
    "print(\"Bsp. 1: \" + nrw.text[1234] + \"\\n\")"
   ]
  },
  {
   "cell_type": "code",
   "execution_count": 50,
   "id": "efad741f",
   "metadata": {},
   "outputs": [],
   "source": [
    "nds.to_csv(\"../../methods/representative-speech/regionalisierung/demojized/nrw_demojized.csv\")"
   ]
  },
  {
   "cell_type": "markdown",
   "id": "8582c265",
   "metadata": {},
   "source": [
    "## Rheinland-Pfalz"
   ]
  },
  {
   "cell_type": "code",
   "execution_count": 51,
   "id": "882ac40c",
   "metadata": {},
   "outputs": [
    {
     "data": {
      "text/plain": [
       "0        Unser Text zur Mitgliederversammlung von Mainz...\n",
       "1        Großeinsatz der Polizei im mittelhessischen Aß...\n",
       "2        Seit Jahren wird rege über einen Ausbau der Rh...\n",
       "3        Der letzte große deutsche Warenhauskonzern Gal...\n",
       "4        Die Energiekrise beschäftigt auch die Menschen...\n",
       "                               ...                        \n",
       "17240    Während Polizei und Ordnungsamt trotz strenger...\n",
       "17241    Weniger Lärm, weniger umweltschädlicher Feinst...\n",
       "17242    In Wörth schoss ein Mann mit einer Schreckschu...\n",
       "17243    Der Euro feiert heute seinen 20. Geburtstag. P...\n",
       "17244    Ja, das Geld ist knapp. Trotzdem erst recht ei...\n",
       "Name: content, Length: 17245, dtype: object"
      ]
     },
     "execution_count": 51,
     "metadata": {},
     "output_type": "execute_result"
    }
   ],
   "source": [
    "rlp = pd.read_csv(filepath_or_buffer=\"../../methods/representative-speech/regionalisierung/rlp_discPow.csv\")\n",
    "rlp.content"
   ]
  },
  {
   "cell_type": "code",
   "execution_count": 52,
   "id": "fa42d8f7",
   "metadata": {},
   "outputs": [
    {
     "name": "stdout",
     "output_type": "stream",
     "text": [
      "Bsp. 1: Der Winter rückt näher, und damit wohl auch wieder eine schwierigere Pandemielage. Die Koalition will dafür jetzt Eindämmungsmöglichkeiten besiegeln – aber auch eine Lockerung.\n",
      "\n",
      "#corona\n",
      "\n",
      "https://t.co/M6k5RXvv8U\n",
      "\n",
      "Bsp. 1: der winter rückt näher und damit wohl auch wieder eine schwierigere pandemielage die koalition will dafür jetzt eindämmungsmöglichkeiten besiegeln  aber auch eine lockerung\n",
      "\n",
      "corona\n",
      "\n",
      "httpstcom6k5rxvv8u\n",
      "\n"
     ]
    }
   ],
   "source": [
    "print(\"Bsp. 1: \" + rlp.content[1234] + \"\\n\")\n",
    "\n",
    "# demojize\n",
    "rlp['content'] = rlp['content'].apply(lambda x: emoji.demojize(x, delimiters=('', '')))\n",
    "\n",
    "# interpunktion entfernen\n",
    "rlp['text'] = rlp['content'].apply(remPunct)\n",
    "\n",
    "# kleinbuchstaben\n",
    "rlp['text'] = rlp['text'].apply(lambda x: x.lower())\n",
    "\n",
    "# problematik bindestriche: nur extra-word, nicht intra-word --- manche nutzen \"-\" zwischen wörtern, manche \"–\"\n",
    "rlp['text'] = rlp['text'].apply(lambda x: re.sub(regex, \"\", x))\n",
    "rlp['text'] = rlp['text'].apply(lambda x: re.sub(regex2, \"\", x))\n",
    "\n",
    "print(\"Bsp. 1: \" + rlp.text[1234] + \"\\n\")"
   ]
  },
  {
   "cell_type": "code",
   "execution_count": 53,
   "id": "ff9c43bd",
   "metadata": {},
   "outputs": [],
   "source": [
    "rlp.to_csv(\"../../methods/representative-speech/regionalisierung/demojized/rlp_demojized.csv\")"
   ]
  },
  {
   "cell_type": "markdown",
   "id": "a07af369",
   "metadata": {},
   "source": [
    "## Saarland"
   ]
  },
  {
   "cell_type": "code",
   "execution_count": 54,
   "id": "13b9e8bd",
   "metadata": {},
   "outputs": [
    {
     "data": {
      "text/plain": [
       "0       Unter dem Titel „Bella Figura“ vereint der neu...\n",
       "1       Im Alter von 71 Jahren hat Suzi Quatro am Frei...\n",
       "2       103 Meter ist die neue Rutsche im Schaumbergba...\n",
       "3       Ein langer Weg zum Traualtar: Ute Laufer und T...\n",
       "4       Sollte ein flächendeckender #Stromausfall das ...\n",
       "                              ...                        \n",
       "7664    Oft sind #Geisterhäuser und verlassene Fabrikh...\n",
       "7665    Aktuelle Zahlen des #RKI für das #Saarland: Na...\n",
       "7666    #Einsätze zu #Silvester: Wegen #Bränden haben ...\n",
       "7667    Das neue Jahr beginnt im #Saarland mit milden ...\n",
       "7668    Eine #Saarländerin aus dem kleinen #Lauterbach...\n",
       "Name: content, Length: 7669, dtype: object"
      ]
     },
     "execution_count": 54,
     "metadata": {},
     "output_type": "execute_result"
    }
   ],
   "source": [
    "saar = pd.read_csv(filepath_or_buffer=\"../../methods/representative-speech/regionalisierung/saarland_discPow.csv\")\n",
    "saar.content"
   ]
  },
  {
   "cell_type": "code",
   "execution_count": 55,
   "id": "bad05c44",
   "metadata": {},
   "outputs": [
    {
     "name": "stdout",
     "output_type": "stream",
     "text": [
      "Bsp. 1: Nach der Premiere „Sister Soul“ in #Dillingen geht das Musical auf eine Rundreise. Das Ensemble begeisterte in der nicht ganz ausverkauften Stadthalle. https://t.co/zpJt2WS42k\n",
      "\n",
      "Bsp. 1: nach der premiere sister soul in dillingen geht das musical auf eine rundreise das ensemble begeisterte in der nicht ganz ausverkauften stadthalle httpstcozpjt2ws42k\n",
      "\n"
     ]
    }
   ],
   "source": [
    "print(\"Bsp. 1: \" + saar.content[1234] + \"\\n\")\n",
    "\n",
    "# demojize\n",
    "saar['content'] = saar['content'].apply(lambda x: emoji.demojize(x, delimiters=('', '')))\n",
    "\n",
    "# interpunktion entfernen\n",
    "saar['text'] = saar['content'].apply(remPunct)\n",
    "\n",
    "# kleinbuchstaben\n",
    "saar['text'] = saar['text'].apply(lambda x: x.lower())\n",
    "\n",
    "# problematik bindestriche: nur extra-word, nicht intra-word --- manche nutzen \"-\" zwischen wörtern, manche \"–\"\n",
    "saar['text'] = saar['text'].apply(lambda x: re.sub(regex, \"\", x))\n",
    "saar['text'] = saar['text'].apply(lambda x: re.sub(regex2, \"\", x))\n",
    "\n",
    "print(\"Bsp. 1: \" + saar.text[1234] + \"\\n\")"
   ]
  },
  {
   "cell_type": "code",
   "execution_count": 56,
   "id": "2b445a93",
   "metadata": {},
   "outputs": [],
   "source": [
    "saar.to_csv(\"../../methods/representative-speech/regionalisierung/demojized/saarland_demojized.csv\")"
   ]
  },
  {
   "cell_type": "markdown",
   "id": "f60f08bc",
   "metadata": {},
   "source": [
    "## Sachsen"
   ]
  },
  {
   "cell_type": "code",
   "execution_count": 57,
   "id": "328d439c",
   "metadata": {},
   "outputs": [
    {
     "data": {
      "text/plain": [
       "0        Internetbetrug: 79-jähriger Dresdner verliert ...\n",
       "1        Wohnungsbrand in Leuben: Feuerwehr löscht Feue...\n",
       "2        Zurück in die Kindheit: So schmeckt’s in Miss ...\n",
       "3        Zusammenstoß zwischen Radfahrern: Eine Schwerv...\n",
       "4        Wegen mehr Demonstrationen: Überstunden für Sa...\n",
       "                               ...                        \n",
       "22879    Kirchgemeinden in Sachsen feiern am 6. Januar ...\n",
       "22880    Noch keine Entscheidung, ob #Thomaskirche und ...\n",
       "22881    Welle der Solidarität nach Pyrotechnik-Angriff...\n",
       "22882    #Jahreslosung 2022: \"Jesus Christus spricht: W...\n",
       "22883    Wir wünschen einen guten Start ins neue Jahr! ...\n",
       "Name: content, Length: 22884, dtype: object"
      ]
     },
     "execution_count": 57,
     "metadata": {},
     "output_type": "execute_result"
    }
   ],
   "source": [
    "sac = pd.read_csv(filepath_or_buffer=\"../../methods/representative-speech/regionalisierung/sachsen_discPow.csv\")\n",
    "sac.content"
   ]
  },
  {
   "cell_type": "code",
   "execution_count": 58,
   "id": "579a05ce",
   "metadata": {},
   "outputs": [
    {
     "name": "stdout",
     "output_type": "stream",
     "text": [
      "Bsp. 1: @warship_gleaves Hi Gilross!\n",
      "Nein, bei rechtsextremen Verdachtsfällen geht es um Personen, die dem deutschen Staat und der demokratischen Ordnung gegenüber feindlich gesinnt sind, und die damit für den Dienst an der Waffe ungeeignet sind. \n",
      "Viele Grüße\n",
      "\n",
      "Bsp. 1: @warshipgleaves hi gilross\n",
      "nein bei rechtsextremen verdachtsfällen geht es um personen die dem deutschen staat und der demokratischen ordnung gegenüber feindlich gesinnt sind und die damit für den dienst an der waffe ungeeignet sind \n",
      "viele grüße\n",
      "\n"
     ]
    }
   ],
   "source": [
    "print(\"Bsp. 1: \" + sac.content[1234] + \"\\n\")\n",
    "\n",
    "# demojize\n",
    "sac['content'] = sac['content'].apply(lambda x: emoji.demojize(x, delimiters=('', '')))\n",
    "\n",
    "# interpunktion entfernen\n",
    "sac['text'] = sac['content'].apply(remPunct)\n",
    "\n",
    "# kleinbuchstaben\n",
    "sac['text'] = sac['text'].apply(lambda x: x.lower())\n",
    "\n",
    "# problematik bindestriche: nur extra-word, nicht intra-word --- manche nutzen \"-\" zwischen wörtern, manche \"–\"\n",
    "sac['text'] = sac['text'].apply(lambda x: re.sub(regex, \"\", x))\n",
    "sac['text'] = sac['text'].apply(lambda x: re.sub(regex2, \"\", x))\n",
    "\n",
    "print(\"Bsp. 1: \" + sac.text[1234] + \"\\n\")"
   ]
  },
  {
   "cell_type": "code",
   "execution_count": 59,
   "id": "0a23cede",
   "metadata": {},
   "outputs": [],
   "source": [
    "sac.to_csv(\"../../methods/representative-speech/regionalisierung/demojized/sachsen_demojized.csv\")"
   ]
  },
  {
   "cell_type": "markdown",
   "id": "b02b1fb7",
   "metadata": {},
   "source": [
    "## Sachsen-Anhalt"
   ]
  },
  {
   "cell_type": "code",
   "execution_count": 60,
   "id": "70fa87bb",
   "metadata": {},
   "outputs": [
    {
     "data": {
      "text/plain": [
       "0        Uns interessiert eure Meinung. Jetzt an der Le...\n",
       "1        Ein tönendes Erz oder eine klingende Schelle -...\n",
       "2        #freitagvoreins - unsere Seite 1. In der Kolum...\n",
       "3        Jetzt spricht der Bräutigam https://t.co/C3yjx...\n",
       "4        Triegel trifft Cranach. Denkmalpflege trifft D...\n",
       "                               ...                        \n",
       "30072    Nach dem Aus für den traditionsreichen Magdebu...\n",
       "30073    Die neue Coronavirus-Variante Omikron hat nun ...\n",
       "30074    Die Magdeburger Volksstimme wollte es genau wi...\n",
       "30075    In Magdeburg gastiert der Circus Paul Busch mi...\n",
       "30076    Mehrfach kam es beim Zug durchs Stadtzentrum z...\n",
       "Name: content, Length: 30077, dtype: object"
      ]
     },
     "execution_count": 60,
     "metadata": {},
     "output_type": "execute_result"
    }
   ],
   "source": [
    "san = pd.read_csv(filepath_or_buffer=\"../../methods/representative-speech/regionalisierung/sachsen_anhalt_discPow.csv\")\n",
    "san.content"
   ]
  },
  {
   "cell_type": "code",
   "execution_count": 61,
   "id": "cc72eb50",
   "metadata": {},
   "outputs": [
    {
     "name": "stdout",
     "output_type": "stream",
     "text": [
      "Bsp. 1: Trotz starker Schmerzen will der „Eiermann“ positiv bleiben https://t.co/eTiWq8pCfd\n",
      "\n",
      "Bsp. 1: trotz starker schmerzen will der eiermann positiv bleiben httpstcoetiwq8pcfd\n",
      "\n"
     ]
    }
   ],
   "source": [
    "print(\"Bsp. 1: \" + san.content[1234] + \"\\n\")\n",
    "\n",
    "# demojize\n",
    "san['content'] = san['content'].apply(lambda x: emoji.demojize(x, delimiters=('', '')))\n",
    "\n",
    "# interpunktion entfernen\n",
    "san['text'] = san['content'].apply(remPunct)\n",
    "\n",
    "# kleinbuchstaben\n",
    "san['text'] = san['text'].apply(lambda x: x.lower())\n",
    "\n",
    "# problematik bindestriche: nur extra-word, nicht intra-word --- manche nutzen \"-\" zwischen wörtern, manche \"–\"\n",
    "san['text'] = san['text'].apply(lambda x: re.sub(regex, \"\", x))\n",
    "san['text'] = san['text'].apply(lambda x: re.sub(regex2, \"\", x))\n",
    "\n",
    "print(\"Bsp. 1: \" + san.text[1234] + \"\\n\")"
   ]
  },
  {
   "cell_type": "code",
   "execution_count": 62,
   "id": "7fe61332",
   "metadata": {},
   "outputs": [],
   "source": [
    "san.to_csv(\"../../methods/representative-speech/regionalisierung/demojized/sachsen_anhalt_demojized.csv\")"
   ]
  },
  {
   "cell_type": "markdown",
   "id": "e0dda009",
   "metadata": {},
   "source": [
    "## Schleswig-Holstein"
   ]
  },
  {
   "cell_type": "code",
   "execution_count": 63,
   "id": "c465c98e",
   "metadata": {},
   "outputs": [
    {
     "data": {
      "text/plain": [
       "0        Das schwedische Unternehmen #Northvolt überleg...\n",
       "1        Die guten Wirtschaftsnachrichten für #Dithmars...\n",
       "2        EXKLUSIV: Nach Informationen von @BoyensMedien...\n",
       "3        Leder: Får vi mon et pendlerspor? -  https://t...\n",
       "4        Anmeldelse: Sjov slowmotion-udgave af ikonisk ...\n",
       "                               ...                        \n",
       "18336    Der #Vulkanausbruch hat den Herbachs auf #LaPa...\n",
       "18337    Die Flensburger #Schiffbau-Gesellschaft #FSG b...\n",
       "18338    Tragischer #Unfall auf der #A7 nahe der Rastst...\n",
       "18339    Lange sah alles nach einer Neuauflage von #Jam...\n",
       "18340    Nur zu rund 88 Einsätzen musste die #Feuerwehr...\n",
       "Name: content, Length: 18341, dtype: object"
      ]
     },
     "execution_count": 63,
     "metadata": {},
     "output_type": "execute_result"
    }
   ],
   "source": [
    "sh = pd.read_csv(filepath_or_buffer=\"../../methods/representative-speech/regionalisierung/schleswig_discPow.csv\")\n",
    "sh.content"
   ]
  },
  {
   "cell_type": "code",
   "execution_count": 64,
   "id": "880f06f7",
   "metadata": {},
   "outputs": [
    {
     "name": "stdout",
     "output_type": "stream",
     "text": [
      "Bsp. 1: Så brænder det igen på Duborg. Bil blev totalskadet -  https://t.co/URoWlojrpg https://t.co/kK4uzizyS6\n",
      "\n",
      "Bsp. 1: så brænder det igen på duborg bil blev totalskadet   httpstcourowlojrpg httpstcokk4uzizys6\n",
      "\n"
     ]
    }
   ],
   "source": [
    "print(\"Bsp. 1: \" + sh.content[1234] + \"\\n\")\n",
    "\n",
    "# demojize\n",
    "sh['content'] = sh['content'].apply(lambda x: emoji.demojize(x, delimiters=('', '')))\n",
    "\n",
    "# interpunktion entfernen\n",
    "sh['text'] = sh['content'].apply(remPunct)\n",
    "\n",
    "# kleinbuchstaben\n",
    "sh['text'] = sh['text'].apply(lambda x: x.lower())\n",
    "\n",
    "# problematik bindestriche: nur extra-word, nicht intra-word --- manche nutzen \"-\" zwischen wörtern, manche \"–\"\n",
    "sh['text'] = sh['text'].apply(lambda x: re.sub(regex, \"\", x))\n",
    "sh['text'] = sh['text'].apply(lambda x: re.sub(regex2, \"\", x))\n",
    "\n",
    "print(\"Bsp. 1: \" + sh.text[1234] + \"\\n\")"
   ]
  },
  {
   "cell_type": "code",
   "execution_count": 65,
   "id": "e5f22916",
   "metadata": {},
   "outputs": [],
   "source": [
    "sh.to_csv(\"../../methods/representative-speech/regionalisierung/demojized/schleswig_demojized.csv\")"
   ]
  },
  {
   "cell_type": "markdown",
   "id": "ff797378",
   "metadata": {},
   "source": [
    "## Thüringen"
   ]
  },
  {
   "cell_type": "code",
   "execution_count": 66,
   "id": "91966a37",
   "metadata": {},
   "outputs": [
    {
     "data": {
      "text/plain": [
       "0        Wie Gregor Gysi, der Entertainer in der Krise,...\n",
       "1        #Gysi: Nato-Krieg gegen Serbien hat Putins Ang...\n",
       "2        @tiffiwebde10 Guten Tag, darf man fragen, was ...\n",
       "3        Zwei Minuten #absoluteabfahrt beim IXS #Downhi...\n",
       "4        @TorstenWolf_MdL @HaakSebastian @cdu_fraktion_...\n",
       "                               ...                        \n",
       "16237    Ein Feuerwerk an der Gedenkstätte #Buchenwald ...\n",
       "16238    Thüringens Wirtschaftsminister Tiefensee sieht...\n",
       "16239    Thüringen bleibt Bundesland mit höchster Coron...\n",
       "16240    Ruhestand: Rente: Das droht jedem dritten Voll...\n",
       "16241    Todesfall: Letztes \"Golden Girl\": Betty White ...\n",
       "Name: content, Length: 16242, dtype: object"
      ]
     },
     "execution_count": 66,
     "metadata": {},
     "output_type": "execute_result"
    }
   ],
   "source": [
    "thü = pd.read_csv(filepath_or_buffer=\"../../methods/representative-speech/regionalisierung/thüringen_discPow.csv\")\n",
    "thü.content"
   ]
  },
  {
   "cell_type": "code",
   "execution_count": 67,
   "id": "8f7c392c",
   "metadata": {},
   "outputs": [
    {
     "name": "stdout",
     "output_type": "stream",
     "text": [
      "Bsp. 1: Bleibt Wasserstoff ein Thema für die Schwarzatalbahn der Zukunft? https://t.co/iGL7pM9WsF\n",
      "\n",
      "Bsp. 1: bleibt wasserstoff ein thema für die schwarzatalbahn der zukunft httpstcoigl7pm9wsf\n",
      "\n"
     ]
    }
   ],
   "source": [
    "print(\"Bsp. 1: \" + thü.content[1234] + \"\\n\")\n",
    "\n",
    "# demojize\n",
    "thü['content'] = thü['content'].apply(lambda x: emoji.demojize(x, delimiters=('', '')))\n",
    "\n",
    "# interpunktion entfernen\n",
    "thü['text'] = thü['content'].apply(remPunct)\n",
    "\n",
    "# kleinbuchstaben\n",
    "thü['text'] = thü['text'].apply(lambda x: x.lower())\n",
    "\n",
    "# problematik bindestriche: nur extra-word, nicht intra-word --- manche nutzen \"-\" zwischen wörtern, manche \"–\"\n",
    "thü['text'] = thü['text'].apply(lambda x: re.sub(regex, \"\", x))\n",
    "thü['text'] = thü['text'].apply(lambda x: re.sub(regex2, \"\", x))\n",
    "\n",
    "print(\"Bsp. 1: \" + thü.text[1234] + \"\\n\")"
   ]
  },
  {
   "cell_type": "code",
   "execution_count": 68,
   "id": "209f0b52",
   "metadata": {},
   "outputs": [],
   "source": [
    "thü.to_csv(\"../../methods/representative-speech/regionalisierung/demojized/thüringen_demojized.csv\")"
   ]
  }
 ],
 "metadata": {
  "kernelspec": {
   "display_name": "Python 3 (ipykernel)",
   "language": "python",
   "name": "python3"
  },
  "language_info": {
   "codemirror_mode": {
    "name": "ipython",
    "version": 3
   },
   "file_extension": ".py",
   "mimetype": "text/x-python",
   "name": "python",
   "nbconvert_exporter": "python",
   "pygments_lexer": "ipython3",
   "version": "3.9.16"
  }
 },
 "nbformat": 4,
 "nbformat_minor": 5
}
