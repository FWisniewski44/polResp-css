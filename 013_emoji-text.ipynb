{
 "cells": [
  {
   "cell_type": "markdown",
   "id": "709bce89",
   "metadata": {},
   "source": [
    "# Zielsetzung\n",
    "\n",
    "- Emojis in Tweets spielen wichtige Rolle: spart Zeichen\n",
    "- User nutzen z. B. Flaggen-Emojis, um das umzusetzen: man muss nicht \"Deutschland\" ausschreiben\n",
    "- Deswegen: Emojis tragen eine Botschaft, genauso wie auch normaler Text\n",
    "- Studien befassten sich z. B. auch NUR mit der Emoji-Nutzung auf Twitter, deshalb auch notwendig für hiesige Arbeit"
   ]
  },
  {
   "cell_type": "markdown",
   "id": "57dc5a79",
   "metadata": {},
   "source": [
    "## Packages"
   ]
  },
  {
   "cell_type": "code",
   "execution_count": 1,
   "id": "00a7ecb2",
   "metadata": {},
   "outputs": [],
   "source": [
    "import pandas as pd\n",
    "import numpy as np\n",
    "import demoji\n",
    "import emoji\n",
    "import string\n",
    "from functools import reduce\n",
    "import re\n",
    "import pprint"
   ]
  },
  {
   "cell_type": "markdown",
   "id": "bf9ca4ab",
   "metadata": {},
   "source": [
    "## Datensatz"
   ]
  },
  {
   "cell_type": "code",
   "execution_count": 2,
   "id": "0114ca72",
   "metadata": {},
   "outputs": [],
   "source": [
    "politikR_updated = pd.read_csv(filepath_or_buffer=\"../../methods/representative-speech/regionalisierung/rest/politikR_updated.csv\")"
   ]
  },
  {
   "cell_type": "code",
   "execution_count": 3,
   "id": "5b56cde5",
   "metadata": {},
   "outputs": [
    {
     "data": {
      "text/plain": [
       "'Wer mit Geflüchteten aus der 🇺🇦 spricht, weiß, unter welchen extremen Belastungen sie stehen. Sie verdienen unsere volle Solidarität und Hilfe. Wer von #Sozialtourismus spricht, möge nach Butscha, Irpin, Isjum schauen. Schlimmer Populismus, der auch hier zu Hass und Hetze führt.'"
      ]
     },
     "execution_count": 3,
     "metadata": {},
     "output_type": "execute_result"
    }
   ],
   "source": [
    "politikR_updated.content[995]"
   ]
  },
  {
   "cell_type": "code",
   "execution_count": 4,
   "id": "767a5f01",
   "metadata": {},
   "outputs": [
    {
     "data": {
      "text/plain": [
       "{'🇺🇦': 'flag: Ukraine'}"
      ]
     },
     "execution_count": 4,
     "metadata": {},
     "output_type": "execute_result"
    }
   ],
   "source": [
    "demoji.findall(politikR_updated.content[995])"
   ]
  },
  {
   "cell_type": "markdown",
   "id": "a368be90",
   "metadata": {},
   "source": [
    "## Funktionen"
   ]
  },
  {
   "cell_type": "code",
   "execution_count": 5,
   "id": "af5f59c0",
   "metadata": {},
   "outputs": [
    {
     "name": "stdout",
     "output_type": "stream",
     "text": [
      "ich teste es – das 9-euro-ticket.\n",
      "ich teste es  das 9-euro-ticket.\n"
     ]
    }
   ],
   "source": [
    "regex = r\"-(?!\\w)|(?<!\\w)-\"\n",
    "regex2 = r\"–(?!\\w)|(?<!\\w)–\"\n",
    "regex2 = r\"–(?!\\w)|(?<!\\w)–\"\n",
    "\n",
    "text = \"ich teste es – das 9-euro-ticket.\"\n",
    "\n",
    "print(re.sub(regex, \"\", text))\n",
    "print(re.sub(regex2, \"\", text))"
   ]
  },
  {
   "cell_type": "code",
   "execution_count": 6,
   "id": "1f59080a",
   "metadata": {},
   "outputs": [
    {
     "name": "stdout",
     "output_type": "stream",
     "text": [
      "Volles Set aller Satzzeichen ---> !\"#$%&'()*+,-./:;<=>?@[\\]^_`{|}~\n",
      "\n",
      "Reduziertes Set, Bindestriche und @ behalten: \n",
      "['!', '\"', '#', '$', '%', '&', \"'\", '(', ')', '*', '+', ',', '', '.', '/', ':', ';', '<', '=', '>', '?', '', '[', '\\\\', ']', '^', '_', '`', '{', '|', '}', '~']\n",
      "<class 'list'>\n"
     ]
    }
   ],
   "source": [
    "## aus einer liste einige zeichen entfernen\n",
    "def remChar(lst, char):\n",
    "    return reduce(lambda x, y: x + [re.sub(char, '', y)], lst, [])\n",
    "\n",
    "string.punctuation\n",
    "\n",
    "zeichen = remChar(string.punctuation, '@')\n",
    "zeichen = remChar(zeichen, '-')\n",
    "\n",
    "print(\"Volles Set aller Satzzeichen ---> \" + string.punctuation + \"\\n\")\n",
    "print(\"Reduziertes Set, Bindestriche und @ behalten: \")\n",
    "print(zeichen)\n",
    "print(type(zeichen))"
   ]
  },
  {
   "cell_type": "code",
   "execution_count": 7,
   "id": "f81a4040",
   "metadata": {},
   "outputs": [
    {
     "name": "stdout",
     "output_type": "stream",
     "text": [
      "32\n",
      "['!', '\"', '#', '$', '%', '&', \"'\", '(', ')', '*', '+', ',', '.', '/', ':', ';', '<', '=', '>', '?', '[', '\\\\', ']', '^', '_', '`', '{', '|', '}', '~', '„', '“']\n",
      "32\n"
     ]
    }
   ],
   "source": [
    "nan = ''\n",
    "\n",
    "for i in zeichen:\n",
    "    result = str(i or nan)\n",
    "type(zeichen)\n",
    "print(len(zeichen))\n",
    "\n",
    "while('' in zeichen):\n",
    "    zeichen.remove('')\n",
    "    \n",
    "zeichen.append(\"„\")\n",
    "zeichen.append(\"“\")\n",
    "\n",
    "print(zeichen)\n",
    "print(len(zeichen))\n"
   ]
  },
  {
   "cell_type": "code",
   "execution_count": 8,
   "id": "b1a3a6ad",
   "metadata": {},
   "outputs": [],
   "source": [
    "# aus einem objekt (dataframe) innerhalb von i zeichen entfernen, die nicht teil eines frozen sets sind\n",
    "def remPunct(s):\n",
    "    s = ''.join([i for i in s if i not in frozenset(zeichen)])\n",
    "    return s"
   ]
  },
  {
   "cell_type": "markdown",
   "id": "1c7ec3a5",
   "metadata": {},
   "source": [
    "## Datenbearbeitung"
   ]
  },
  {
   "cell_type": "markdown",
   "id": "000cd20d",
   "metadata": {},
   "source": [
    "### Funktion für einen Aufwasch"
   ]
  },
  {
   "cell_type": "code",
   "execution_count": 9,
   "id": "cab96333",
   "metadata": {},
   "outputs": [],
   "source": [
    "def preprocessing(dataframe, i, savename):\n",
    "    print(\"Ausgangs-String: \\n\" + dataframe.content[i] + \"\\n\")\n",
    "    \n",
    "    ## operationen\n",
    "    dataframe['content'] = dataframe['content'].apply(lambda x: emoji.demojize(x, delimiters=(' ',' ')))\n",
    "    dataframe['text'] = dataframe['content'].apply(remPunct)\n",
    "    dataframe['text'] = dataframe['content'].apply(lambda x: x.lower())\n",
    "    dataframe['text'] = dataframe['content'].apply(lambda x: re.sub(regex, \"\", x))\n",
    "    dataframe['text'] = dataframe['content'].apply(lambda x: re.sub(regex2, \"\", x))\n",
    "    \n",
    "    dataframe.to_csv(f\"../../methods/representative-speech/regionalisierung/demojized/{savename}.csv\")\n",
    "    return print(\"Endprodukt preprocessing: \\n\" + dataframe.text[i])"
   ]
  },
  {
   "cell_type": "code",
   "execution_count": 10,
   "id": "ba0ccf1a",
   "metadata": {},
   "outputs": [
    {
     "name": "stdout",
     "output_type": "stream",
     "text": [
      "Ausgangs-String: \n",
      "Endlich🎆 wieder Politik in der Hauptstadt!\n",
      "Morgen:\n",
      "Drei(!) Veranstaltungen beim #TagderoffenenTür, ab Montag dann #Sitzungswoche - mit #AfD-pur!💪\n",
      "#FürdieBürger✌️\n",
      "#Brandnerunterwegs\n",
      "#AfD\n",
      "#wirhabendasDirektmandat👍\n",
      "#Deutschlandabernormal🇩🇪\n",
      "#WK194 #Berlin #Bundestag #Brandner https://t.co/OOpoIu7i3f\n",
      "\n",
      "Endprodukt preprocessing: \n",
      "Endlich fireworks  wieder Politik in der Hauptstadt!\n",
      "Morgen:\n",
      "Drei(!) Veranstaltungen beim #TagderoffenenTür, ab Montag dann #Sitzungswoche - mit #AfD-pur! flexed_biceps \n",
      "#FürdieBürger victory_hand \n",
      "#Brandnerunterwegs\n",
      "#AfD\n",
      "#wirhabendasDirektmandat thumbs_up \n",
      "#Deutschlandabernormal Germany \n",
      "#WK194 #Berlin #Bundestag #Brandner https://t.co/OOpoIu7i3f\n"
     ]
    }
   ],
   "source": [
    "preprocessing(politikR_updated, 8725, \"politikR_demojized\")"
   ]
  },
  {
   "cell_type": "code",
   "execution_count": 9,
   "id": "87b29d99",
   "metadata": {},
   "outputs": [
    {
     "name": "stdout",
     "output_type": "stream",
     "text": [
      "Bsp. 1: Darf man als Bundestagsabgeordneter über Ostern Urlaub machen? \n",
      "Ich frage nur für einen Freund. #AnneSpiegel\n",
      "\n",
      "Bsp. 1: darf man als bundestagsabgeordneter über ostern urlaub machen \n",
      "ich frage nur für einen freund annespiegel\n",
      "\n"
     ]
    }
   ],
   "source": [
    "print(\"Bsp. 1: \" + politikR_updated.content[1234] + \"\\n\")\n",
    "\n",
    "# demojize\n",
    "politikR_updated['content'] = politikR_updated['content'].apply(lambda x: emoji.demojize(x, delimiters=('', '')))\n",
    "\n",
    "# interpunktion entfernen\n",
    "politikR_updated['text'] = politikR_updated['content'].apply(remPunct)\n",
    "\n",
    "# kleinbuchstaben\n",
    "politikR_updated['text'] = politikR_updated['text'].apply(lambda x: x.lower())\n",
    "\n",
    "# problematik bindestriche: nur extra-word, nicht intra-word --- manche nutzen \"-\" zwischen wörtern, manche \"–\"\n",
    "politikR_updated['text'] = politikR_updated['text'].apply(lambda x: re.sub(regex, \"\", x))\n",
    "politikR_updated['text'] = politikR_updated['text'].apply(lambda x: re.sub(regex2, \"\", x))\n",
    "\n",
    "print(\"Bsp. 1: \" + politikR_updated.text[1234] + \"\\n\")"
   ]
  },
  {
   "cell_type": "code",
   "execution_count": 10,
   "id": "edb21287",
   "metadata": {},
   "outputs": [
    {
     "name": "stdout",
     "output_type": "stream",
     "text": [
      "1: was @janboehm und das @zdfmagazin da gemacht haben ist einfach so unfassbar krass es legt den finger in eine wunde die auch nach 120 jahren nicht verheilt wäre \n",
      "\n",
      "danke dafür\n",
      "\n",
      "2: @nadjasthamer @bmzbund lt3\n",
      "\n",
      "3: wer mit geflüchteten aus der ukraine spricht weiß unter welchen extremen belastungen sie stehen sie verdienen unsere volle solidarität und hilfe wer von sozialtourismus spricht möge nach butscha irpin isjum schauen schlimmer populismus der auch hier zu hass und hetze führt\n",
      "\n",
      "4: bisher tragen mieterinnen die co²-preise alleine die fdp will dass es so bleibt spdgrüne wollen kosten aufteilen als linke sagen wir wenn die co²-preise nicht abgeschafft werden dann dürfen sie wenigstens nicht den mieterinnen aufgebürdet werden httpstcoqqtzatbrsl httpstco9dkzwwhy1l\n",
      "\n"
     ]
    }
   ],
   "source": [
    "print(\"1: \" + politikR_updated.text[1] + \"\\n\")\n",
    "\n",
    "print(\"2: \" + politikR_updated.text[42]+ \"\\n\")\n",
    "\n",
    "print(\"3: \" + politikR_updated.text[995]+ \"\\n\")\n",
    "\n",
    "print(\"4: \" + politikR_updated.text[100947]+ \"\\n\")"
   ]
  },
  {
   "cell_type": "code",
   "execution_count": 11,
   "id": "cca85881",
   "metadata": {},
   "outputs": [],
   "source": [
    "politikR_updated.to_csv(\"../../methods/representative-speech/regionalisierung/demojized/politikR_demoji.csv\")"
   ]
  }
 ],
 "metadata": {
  "kernelspec": {
   "display_name": "Python 3 (ipykernel)",
   "language": "python",
   "name": "python3"
  },
  "language_info": {
   "codemirror_mode": {
    "name": "ipython",
    "version": 3
   },
   "file_extension": ".py",
   "mimetype": "text/x-python",
   "name": "python",
   "nbconvert_exporter": "python",
   "pygments_lexer": "ipython3",
   "version": "3.9.16"
  }
 },
 "nbformat": 4,
 "nbformat_minor": 5
}
