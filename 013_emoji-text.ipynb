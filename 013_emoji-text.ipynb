{
 "cells": [
  {
   "cell_type": "markdown",
   "id": "709bce89",
   "metadata": {},
   "source": [
    "# Zielsetzung\n",
    "\n",
    "- Emojis in Tweets spielen wichtige Rolle: spart Zeichen\n",
    "- User nutzen z. B. Flaggen-Emojis, um das umzusetzen: man muss nicht \"Deutschland\" ausschreiben\n",
    "- Deswegen: Emojis tragen eine Botschaft, genauso wie auch normaler Text\n",
    "- Studien befassten sich z. B. auch NUR mit der Emoji-Nutzung auf Twitter, deshalb auch notwendig für hiesige Arbeit"
   ]
  },
  {
   "cell_type": "code",
   "execution_count": 2,
   "id": "00a7ecb2",
   "metadata": {},
   "outputs": [],
   "source": [
    "import pandas as pd\n",
    "import numpy as np\n",
    "import demoji\n",
    "import emoji"
   ]
  },
  {
   "cell_type": "code",
   "execution_count": 3,
   "id": "e948ac89",
   "metadata": {},
   "outputs": [],
   "source": [
    "politikR_updated = pd.read_csv(filepath_or_buffer=\"../../methods/representative-speech/regionalisierung/rest/politikR_updated.csv\")"
   ]
  },
  {
   "cell_type": "code",
   "execution_count": 4,
   "id": "5b56cde5",
   "metadata": {},
   "outputs": [
    {
     "data": {
      "text/plain": [
       "'Wer mit Geflüchteten aus der 🇺🇦 spricht, weiß, unter welchen extremen Belastungen sie stehen. Sie verdienen unsere volle Solidarität und Hilfe. Wer von #Sozialtourismus spricht, möge nach Butscha, Irpin, Isjum schauen. Schlimmer Populismus, der auch hier zu Hass und Hetze führt.'"
      ]
     },
     "execution_count": 4,
     "metadata": {},
     "output_type": "execute_result"
    }
   ],
   "source": [
    "politikR_updated.content[995]"
   ]
  },
  {
   "cell_type": "code",
   "execution_count": 5,
   "id": "767a5f01",
   "metadata": {},
   "outputs": [
    {
     "data": {
      "text/plain": [
       "{'🇺🇦': 'flag: Ukraine'}"
      ]
     },
     "execution_count": 5,
     "metadata": {},
     "output_type": "execute_result"
    }
   ],
   "source": [
    "demoji.findall(politikR_updated.content[995])"
   ]
  },
  {
   "cell_type": "code",
   "execution_count": 6,
   "id": "ba69d30b",
   "metadata": {},
   "outputs": [],
   "source": [
    "# politikR_updated['content'] = politikR_updated['content'].apply(lambda x: delemoji(x))\n",
    "politikR_updated['content'] = politikR_updated['content'].apply(lambda x: emoji.demojize(x, delimiters=('', '')))"
   ]
  },
  {
   "cell_type": "code",
   "execution_count": 7,
   "id": "0f4c9a3f",
   "metadata": {},
   "outputs": [
    {
     "data": {
      "text/plain": [
       "'Was @janboehm und das @zdfmagazin da gemacht haben ist einfach so unfassbar krass. Es legt den Finger in eine Wunde, die auch nach 120 Jahren nicht verheilt wäre. \\n\\nDanke dafür.'"
      ]
     },
     "execution_count": 7,
     "metadata": {},
     "output_type": "execute_result"
    }
   ],
   "source": [
    "politikR_updated.content[1]"
   ]
  },
  {
   "cell_type": "code",
   "execution_count": 24,
   "id": "19b6c658",
   "metadata": {},
   "outputs": [
    {
     "name": "stdout",
     "output_type": "stream",
     "text": [
      "!\"#$%&'()*+,-./:;<=>?@[\\]^_`{|}~\n",
      "['!', '\"', '#', '$', '%', '&', \"'\", '(', ')', '*', '+', ',', '', '.', '/', ':', ';', '<', '=', '>', '?', '', '[', '\\\\', ']', '^', '_', '`', '{', '|', '}', '~']\n"
     ]
    }
   ],
   "source": [
    "import string\n",
    "from functools import reduce\n",
    "import re\n",
    "\n",
    "string.punctuation\n",
    "\n",
    "# politikR_updated['content_noPunct'] = politikR_updated['content'].str.replace(r'[^\\w\\s]+', '')\n",
    "\n",
    "def remChar(lst, char):\n",
    "    return reduce(lambda x, y: x + [re.sub(char, '', y)], lst, [])\n",
    "\n",
    "zeichen = remChar(string.punctuation, '@')\n",
    "zeichen = remChar(zeichen, '-')\n",
    "\n",
    "print(string.punctuation)\n",
    "print(zeichen)"
   ]
  },
  {
   "cell_type": "code",
   "execution_count": 25,
   "id": "29c02488",
   "metadata": {},
   "outputs": [],
   "source": [
    "def remPunct(s):\n",
    "    s = ''.join([i for i in s if i not in frozenset(zeichen)])\n",
    "    return s\n",
    "\n",
    "politikR_updated['text'] = politikR_updated['content'].apply(remPunct)\n",
    "politikR_updated['text'] = politikR_updated['text'].apply(lambda x: x.lower())"
   ]
  },
  {
   "cell_type": "code",
   "execution_count": 34,
   "id": "edb21287",
   "metadata": {},
   "outputs": [
    {
     "name": "stdout",
     "output_type": "stream",
     "text": [
      "1: was @janboehm und das @zdfmagazin da gemacht haben ist einfach so unfassbar krass es legt den finger in eine wunde die auch nach 120 jahren nicht verheilt wäre \n",
      "\n",
      "danke dafür\n",
      "\n",
      "2: @nadjasthamer @bmzbund lt3\n",
      "\n",
      "3: wer mit geflüchteten aus der ukraine spricht weiß unter welchen extremen belastungen sie stehen sie verdienen unsere volle solidarität und hilfe wer von sozialtourismus spricht möge nach butscha irpin isjum schauen schlimmer populismus der auch hier zu hass und hetze führt\n",
      "\n",
      "4: bisher tragen mieterinnen die co²-preise alleine die fdp will dass es so bleibt spdgrüne wollen kosten aufteilen als linke sagen wir wenn die co²-preise nicht abgeschafft werden dann dürfen sie wenigstens nicht den mieterinnen aufgebürdet werden httpstcoqqtzatbrsl httpstco9dkzwwhy1l\n",
      "\n"
     ]
    }
   ],
   "source": [
    "print(\"1: \" + politikR_updated.text[1] + \"\\n\")\n",
    "\n",
    "print(\"2: \" + politikR_updated.text[42]+ \"\\n\")\n",
    "\n",
    "print(\"3: \" + politikR_updated.text[995]+ \"\\n\")\n",
    "\n",
    "print(\"4: \" + politikR_updated.text[100947]+ \"\\n\")"
   ]
  },
  {
   "cell_type": "code",
   "execution_count": 27,
   "id": "cca85881",
   "metadata": {},
   "outputs": [],
   "source": [
    "politikR_updated.to_csv(\"../../methods/representative-speech/regionalisierung/rest/politikR_demoji.csv\")"
   ]
  }
 ],
 "metadata": {
  "kernelspec": {
   "display_name": "Python 3 (ipykernel)",
   "language": "python",
   "name": "python3"
  },
  "language_info": {
   "codemirror_mode": {
    "name": "ipython",
    "version": 3
   },
   "file_extension": ".py",
   "mimetype": "text/x-python",
   "name": "python",
   "nbconvert_exporter": "python",
   "pygments_lexer": "ipython3",
   "version": "3.9.16"
  }
 },
 "nbformat": 4,
 "nbformat_minor": 5
}
