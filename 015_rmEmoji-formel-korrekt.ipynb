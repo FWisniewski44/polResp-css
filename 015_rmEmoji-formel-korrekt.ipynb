{
 "cells": [
  {
   "cell_type": "code",
   "execution_count": 1,
   "id": "78bd692e",
   "metadata": {},
   "outputs": [],
   "source": [
    "import pandas as pd\n",
    "import numpy as np\n",
    "import demoji\n",
    "import emoji\n",
    "import string\n",
    "from functools import reduce\n",
    "import re\n",
    "import pprint"
   ]
  },
  {
   "cell_type": "code",
   "execution_count": 2,
   "id": "fb6410ff",
   "metadata": {},
   "outputs": [
    {
     "name": "stdout",
     "output_type": "stream",
     "text": [
      "ich teste es – das 9-euro-ticket.\n",
      "ich teste es  das 9-euro-ticket.\n"
     ]
    }
   ],
   "source": [
    "regex = r\"-(?!\\w)|(?<!\\w)-\"\n",
    "regex2 = r\"–(?!\\w)|(?<!\\w)–\"\n",
    "regex2 = r\"–(?!\\w)|(?<!\\w)–\"\n",
    "\n",
    "text = \"ich teste es – das 9-euro-ticket.\"\n",
    "\n",
    "print(re.sub(regex, \"\", text))\n",
    "print(re.sub(regex2, \"\", text))"
   ]
  },
  {
   "cell_type": "code",
   "execution_count": 3,
   "id": "dc4e8df5",
   "metadata": {},
   "outputs": [
    {
     "name": "stdout",
     "output_type": "stream",
     "text": [
      "Volles Set aller Satzzeichen ---> !\"#$%&'()*+,-./:;<=>?@[\\]^_`{|}~\n",
      "\n",
      "Reduziertes Set, Bindestriche und @ behalten: \n",
      "['!', '\"', '#', '$', '%', '&', \"'\", '(', ')', '*', '+', ',', '', '.', '/', ':', ';', '<', '=', '>', '?', '', '[', '\\\\', ']', '^', '_', '`', '{', '|', '}', '~']\n",
      "<class 'list'>\n"
     ]
    }
   ],
   "source": [
    "## aus einer liste einige zeichen entfernen\n",
    "def remChar(lst, char):\n",
    "    return reduce(lambda x, y: x + [re.sub(char, '', y)], lst, [])\n",
    "\n",
    "string.punctuation\n",
    "\n",
    "zeichen = remChar(string.punctuation, '@')\n",
    "zeichen = remChar(zeichen, '-')\n",
    "\n",
    "print(\"Volles Set aller Satzzeichen ---> \" + string.punctuation + \"\\n\")\n",
    "print(\"Reduziertes Set, Bindestriche und @ behalten: \")\n",
    "print(zeichen)\n",
    "print(type(zeichen))"
   ]
  },
  {
   "cell_type": "code",
   "execution_count": 4,
   "id": "95029b2d",
   "metadata": {},
   "outputs": [
    {
     "name": "stdout",
     "output_type": "stream",
     "text": [
      "32\n",
      "['!', '\"', '#', '$', '%', '&', \"'\", '(', ')', '*', '+', ',', '.', '/', ':', ';', '<', '=', '>', '?', '[', '\\\\', ']', '^', '_', '`', '{', '|', '}', '~', '„', '“']\n",
      "32\n"
     ]
    }
   ],
   "source": [
    "nan = ''\n",
    "\n",
    "for i in zeichen:\n",
    "    result = str(i or nan)\n",
    "type(zeichen)\n",
    "print(len(zeichen))\n",
    "\n",
    "while('' in zeichen):\n",
    "    zeichen.remove('')\n",
    "    \n",
    "zeichen.append(\"„\")\n",
    "zeichen.append(\"“\")\n",
    "\n",
    "print(zeichen)\n",
    "print(len(zeichen))\n"
   ]
  },
  {
   "cell_type": "code",
   "execution_count": 5,
   "id": "6cb74424",
   "metadata": {},
   "outputs": [],
   "source": [
    "# aus einem objekt (dataframe) innerhalb von i zeichen entfernen, die nicht teil eines frozen sets sind\n",
    "def remPunct(s):\n",
    "    s = ''.join([i for i in s if i not in frozenset(zeichen)])\n",
    "    return s"
   ]
  },
  {
   "cell_type": "code",
   "execution_count": 6,
   "id": "539db43a",
   "metadata": {},
   "outputs": [],
   "source": [
    "def preprocessing(dataframe, i, savename):\n",
    "    print(\"Ausgangs-String: \\n\" + dataframe.content[i] + \"\\n\")\n",
    "    \n",
    "    ## operationen\n",
    "    dataframe['content'] = dataframe['content'].apply(lambda x: emoji.demojize(x, delimiters=(' ',' ')))\n",
    "    dataframe['text'] = dataframe['content'].apply(remPunct)\n",
    "    dataframe['text'] = dataframe['text'].apply(lambda x: x.lower())\n",
    "    dataframe['text'] = dataframe['text'].apply(lambda x: re.sub(regex, \"\", x))\n",
    "    dataframe['text'] = dataframe['text'].apply(lambda x: re.sub(regex2, \"\", x))\n",
    "    \n",
    "    dataframe.to_csv(f\"../../methods/representative-speech/regionalisierung/demojized/{savename}.csv\")\n",
    "    return print(\"Endprodukt preprocessing: \\n\" + dataframe.text[i])"
   ]
  },
  {
   "cell_type": "code",
   "execution_count": 7,
   "id": "c1bd5351",
   "metadata": {},
   "outputs": [
    {
     "name": "stderr",
     "output_type": "stream",
     "text": [
      "/tmp/ipykernel_21923/1382726694.py:3: DtypeWarning: Columns (11) have mixed types. Specify dtype option on import or set low_memory=False.\n",
      "  bayern = pd.read_csv(filepath_or_buffer=\"../../methods/representative-speech/regionalisierung/bayern_discPow.csv\")\n",
      "/tmp/ipykernel_21923/1382726694.py:5: DtypeWarning: Columns (11,12) have mixed types. Specify dtype option on import or set low_memory=False.\n",
      "  hamburg = pd.read_csv(filepath_or_buffer=\"../../methods/representative-speech/regionalisierung/hamburg_discPow.csv\")\n",
      "/tmp/ipykernel_21923/1382726694.py:7: DtypeWarning: Columns (11) have mixed types. Specify dtype option on import or set low_memory=False.\n",
      "  nds = pd.read_csv(filepath_or_buffer=\"../../methods/representative-speech/regionalisierung/niedersachsen_discPow.csv\")\n"
     ]
    }
   ],
   "source": [
    "## medien-daten\n",
    "bawü = pd.read_csv(filepath_or_buffer=\"../../methods/representative-speech/regionalisierung/bawü_discPow.csv\")\n",
    "bayern = pd.read_csv(filepath_or_buffer=\"../../methods/representative-speech/regionalisierung/bayern_discPow.csv\")\n",
    "bremen = pd.read_csv(filepath_or_buffer=\"../../methods/representative-speech/regionalisierung/bremen_discPow.csv\")\n",
    "hamburg = pd.read_csv(filepath_or_buffer=\"../../methods/representative-speech/regionalisierung/hamburg_discPow.csv\")\n",
    "hessen = pd.read_csv(filepath_or_buffer=\"../../methods/representative-speech/regionalisierung/hessen_discPow.csv\")\n",
    "nds = pd.read_csv(filepath_or_buffer=\"../../methods/representative-speech/regionalisierung/niedersachsen_discPow.csv\")\n",
    "nrw = pd.read_csv(filepath_or_buffer=\"../../methods/representative-speech/regionalisierung/nrw_discPow.csv\")\n",
    "rlp = pd.read_csv(filepath_or_buffer=\"../../methods/representative-speech/regionalisierung/rlp_discPow.csv\")\n",
    "sachsen = pd.read_csv(filepath_or_buffer=\"../../methods/representative-speech/regionalisierung/sachsen_discPow.csv\")\n",
    "sachsen_anhalt = pd.read_csv(filepath_or_buffer=\"../../methods/representative-speech/regionalisierung/sachsen_anhalt_discPow.csv\")\n",
    "schleswig = pd.read_csv(filepath_or_buffer=\"../../methods/representative-speech/regionalisierung/schleswig_discPow.csv\")\n",
    "thüringen = pd.read_csv(filepath_or_buffer=\"../../methods/representative-speech/regionalisierung/thüringen_discPow.csv\")\n",
    "saarland = pd.read_csv(filepath_or_buffer=\"../../methods/representative-speech/regionalisierung/saarland_discPow.csv\")\n",
    "meckPomm = pd.read_csv(filepath_or_buffer=\"../../methods/representative-speech/regionalisierung/meckPomm_discPow.csv\")\n",
    "berlin = pd.read_csv(filepath_or_buffer=\"../../methods/representative-speech/regionalisierung/berlin_discPow.csv\")\n",
    "brandenburg = pd.read_csv(filepath_or_buffer=\"../../methods/representative-speech/regionalisierung/brandenburg_discPow.csv\")\n",
    "\n",
    "## politiker-daten\n",
    "politikR = pd.read_csv(filepath_or_buffer=\"../../methods/representative-speech/regionalisierung/rest/politikR_updated.csv\")"
   ]
  },
  {
   "cell_type": "code",
   "execution_count": 8,
   "id": "6aa60479",
   "metadata": {},
   "outputs": [
    {
     "name": "stdout",
     "output_type": "stream",
     "text": [
      "Ausgangs-String: \n",
      "Zunächst habe ein 59-jähriger Mann versucht, einen nahestehenden Angehörigen in Malterdingen zu töten, dann tötete er sich wohl selbst. #Emmendingen (BZ-Plus) https://t.co/uO9FsMYJYK\n",
      "\n",
      "Endprodukt preprocessing: \n",
      "zunächst habe ein 59-jähriger mann versucht einen nahestehenden angehörigen in malterdingen zu töten dann tötete er sich wohl selbst emmendingen bz-plus httpstcouo9fsmyjyk\n",
      "Ausgangs-String: \n",
      "AZ goes green: Unsere morgen erscheinende Wochenendausgabe widmet sich dem Thema #Nachhaltigkeit und präsentiert Menschen und Unternehmen in #München, die den Begriff wirklich mit Leben füllen. 💚\n",
      "Mehr Infos: ➡ https://t.co/CEu7PMyMpj https://t.co/szQPVVFwad\n",
      "\n",
      "Endprodukt preprocessing: \n",
      "az goes green unsere morgen erscheinende wochenendausgabe widmet sich dem thema nachhaltigkeit und präsentiert menschen und unternehmen in münchen die den begriff wirklich mit leben füllen  greenheart \n",
      "mehr infos  rightarrow  httpstcoceu7pmympj httpstcoszqpvvfwad\n",
      "Ausgangs-String: \n",
      "A1/A255: Behinderungen durch Baustelle im Autobahndreieck https://t.co/4L5u4BCgvw https://t.co/6beMWQ4WMh\n",
      "\n",
      "Endprodukt preprocessing: \n",
      "a1a255 behinderungen durch baustelle im autobahndreieck httpstco4l5u4bcgvw httpstco6bemwq4wmh\n",
      "Ausgangs-String: \n",
      "In Niedersachsen reicht zum Shoppen die Maske, in Bremen sind Impfnachweis oder Testergebnis erforderlich. Dagegen regt sich bei den Händlern Widerstand. Bürgermeister Bovenschulte stellt Besserung in Aussicht. https://t.co/ljjawMgHEr\n",
      "\n",
      "Endprodukt preprocessing: \n",
      "in niedersachsen reicht zum shoppen die maske in bremen sind impfnachweis oder testergebnis erforderlich dagegen regt sich bei den händlern widerstand bürgermeister bovenschulte stellt besserung in aussicht httpstcoljjawmgher\n",
      "Ausgangs-String: \n",
      "Nach kurzer Verwirrung wegen der Punktewertung in Japan steht nun fest: Der Niederländer Max Verstappen ist zum zweiten Mal Formel-1-Weltmeister.  #Formel1 #Formula1 https://t.co/OKkCgAJQjX\n",
      "\n",
      "Endprodukt preprocessing: \n",
      "nach kurzer verwirrung wegen der punktewertung in japan steht nun fest der niederländer max verstappen ist zum zweiten mal formel-1-weltmeister  formel1 formula1 httpstcookkcgajqjx\n",
      "Ausgangs-String: \n",
      "Volkswagen: Ändert Volkswagen seinen Namen? https://t.co/5Sjyu3y4B4\n",
      "\n",
      "Endprodukt preprocessing: \n",
      "volkswagen ändert volkswagen seinen namen httpstco5sjyu3y4b4\n",
      "Ausgangs-String: \n",
      "In #Meckenheim hat es am Samstag einen Autounfall gegeben, bei dem vier Personen verletzt wurden. Ein Fahrer soll sich vom Unfallort entfernt haben. Die Polizei bittet um Hinweise. https://t.co/3ENaCSllbK\n",
      "\n",
      "Endprodukt preprocessing: \n",
      "in meckenheim hat es am samstag einen autounfall gegeben bei dem vier personen verletzt wurden ein fahrer soll sich vom unfallort entfernt haben die polizei bittet um hinweise httpstco3enacsllbk\n",
      "Ausgangs-String: \n",
      "Umweltministerium wirft sich vor Staatssekretär Manz. #flut #ahrtal https://t.co/sh2r3yjp4h\n",
      "\n",
      "Endprodukt preprocessing: \n",
      "umweltministerium wirft sich vor staatssekretär manz flut ahrtal httpstcosh2r3yjp4h\n",
      "Ausgangs-String: \n",
      "Droht #Sachsen nach der rechtsextremen Übersiedelungsaktion \"Zusammenrücken\" nun noch die Einwanderung weiterer #Reichsbürger aus anderen Bundesländern? Das zumindest deuten Erkenntnisse des Sächsischen Landesamtes für #Verfassungsschutz an. [FP+] https://t.co/L9Elib8Stu\n",
      "\n",
      "Endprodukt preprocessing: \n",
      "droht sachsen nach der rechtsextremen übersiedelungsaktion zusammenrücken nun noch die einwanderung weiterer reichsbürger aus anderen bundesländern das zumindest deuten erkenntnisse des sächsischen landesamtes für verfassungsschutz an fp httpstcol9elib8stu\n",
      "Ausgangs-String: \n",
      "Sattelzug rutscht von der A14: Zwei Menschen bei Unfall schwer verletzt https://t.co/80DES3LqNQ\n",
      "\n",
      "Endprodukt preprocessing: \n",
      "sattelzug rutscht von der a14 zwei menschen bei unfall schwer verletzt httpstco80des3lqnq\n",
      "Ausgangs-String: \n",
      "Wer #schwimmen lernen will, muss viel Geduld aufbringen. Fast 30 000 #Kinder in Schleswig-Holstein warten derzeit auf einen Platz in einem #Schwimmkurs – drei Jahre Wartezeit sind auch in #Lübeck keine Seltenheit. https://t.co/H4X2I5QSP1\n",
      "\n",
      "Endprodukt preprocessing: \n",
      "wer schwimmen lernen will muss viel geduld aufbringen fast 30 000 kinder in schleswig-holstein warten derzeit auf einen platz in einem schwimmkurs  drei jahre wartezeit sind auch in lübeck keine seltenheit httpstcoh4x2i5qsp1\n",
      "Ausgangs-String: \n",
      "Filmstar bei Eröffnung von Goldenem Spatz https://t.co/Z0f2Fda1PU\n",
      "\n",
      "Endprodukt preprocessing: \n",
      "filmstar bei eröffnung von goldenem spatz httpstcoz0f2fda1pu\n",
      "Ausgangs-String: \n",
      "Heinrich Wellner ist unermüdlich, wenn es um Hilfe von armen Menschen in Sri Lanka geht. 225 Häuser hat er über Spenden finanziert. Im kommenden Frühjahr will der 85-Jährige wieder in den Inselstaat aufbrechen. https://t.co/pnhaFS2h12\n",
      "\n",
      "Endprodukt preprocessing: \n",
      "heinrich wellner ist unermüdlich wenn es um hilfe von armen menschen in sri lanka geht 225 häuser hat er über spenden finanziert im kommenden frühjahr will der 85-jährige wieder in den inselstaat aufbrechen httpstcopnhafs2h12\n",
      "Ausgangs-String: \n",
      "Keine Denkverbote – dies fordert die Industrie- und Handelskammern in MV hinsichtlich einer Öffnung der Gaspipeline #Nordstream2 . Doch die Landespolitik will davon nichts wissen.\n",
      "\n",
      "https://t.co/XxePwBkEHx\n",
      "\n",
      "@GRUENE_MV @DIE_LINKE_MV @FDPFraktionMV @cdufraktionmv @AfDFraktion_MV\n",
      "\n",
      "Endprodukt preprocessing: \n",
      "keine denkverbote  dies fordert die industrie und handelskammern in mv hinsichtlich einer öffnung der gaspipeline nordstream2  doch die landespolitik will davon nichts wissen\n",
      "\n",
      "httpstcoxxepwbkehx\n",
      "\n",
      "@gruenemv @dielinkemv @fdpfraktionmv @cdufraktionmv @afdfraktionmv\n",
      "Ausgangs-String: \n",
      "Bürgerservice in Spree-Neiße: \n",
      "Landkreis gegen Personalrat – #Homeoffice-Streit landet vor Gericht. \n",
      "https://t.co/bTq8MBwFg1\n",
      "\n",
      "Endprodukt preprocessing: \n",
      "bürgerservice in spree-neiße \n",
      "landkreis gegen personalrat  homeoffice-streit landet vor gericht \n",
      "httpstcobtq8mbwfg1\n",
      "Ausgangs-String: \n",
      "Der ehemalige Nationalkeeper Wolfgang Fahrian ist an einer Lungenentzündung gestorben. https://t.co/cgfHy9r7jt\n",
      "\n",
      "Endprodukt preprocessing: \n",
      "der ehemalige nationalkeeper wolfgang fahrian ist an einer lungenentzündung gestorben httpstcocgfhy9r7jt\n",
      "Ausgangs-String: \n",
      "Endlich🎆 wieder Politik in der Hauptstadt!\n",
      "Morgen:\n",
      "Drei(!) Veranstaltungen beim #TagderoffenenTür, ab Montag dann #Sitzungswoche - mit #AfD-pur!💪\n",
      "#FürdieBürger✌️\n",
      "#Brandnerunterwegs\n",
      "#AfD\n",
      "#wirhabendasDirektmandat👍\n",
      "#Deutschlandabernormal🇩🇪\n",
      "#WK194 #Berlin #Bundestag #Brandner https://t.co/OOpoIu7i3f\n",
      "\n",
      "Endprodukt preprocessing: \n",
      "endlich fireworks  wieder politik in der hauptstadt\n",
      "morgen\n",
      "drei veranstaltungen beim tagderoffenentür ab montag dann sitzungswoche  mit afd-pur flexedbiceps \n",
      "fürdiebürger victoryhand \n",
      "brandnerunterwegs\n",
      "afd\n",
      "wirhabendasdirektmandat thumbsup \n",
      "deutschlandabernormal germany \n",
      "wk194 berlin bundestag brandner httpstcooopoiu7i3f\n"
     ]
    }
   ],
   "source": [
    "## für medien\n",
    "preprocessing(bawü, 8000, \"bawü_demojized\")\n",
    "preprocessing(bayern, 0, \"bayern_demojized\")\n",
    "preprocessing(hamburg, 8000, \"hamburg_demojized\")\n",
    "preprocessing(bremen, 8000, \"bremen_demojized\")\n",
    "preprocessing(hessen, 8000, \"hessen_demojized\")\n",
    "preprocessing(nds, 8000, \"niedersachsen_demojized\")\n",
    "preprocessing(nrw, 8000, \"nrw_demojized\")\n",
    "preprocessing(rlp, 8000, \"rlp_demojized\")\n",
    "preprocessing(sachsen, 8000, \"sachsen_demojized\")\n",
    "preprocessing(sachsen_anhalt, 8000, \"sachsen_anhalt_demojized\")\n",
    "preprocessing(schleswig, 8000, \"schleswig_demojized\")\n",
    "preprocessing(thüringen, 8000, \"thüringen_demojized\")\n",
    "preprocessing(saarland, 100, \"saarland_demojized\")\n",
    "preprocessing(meckPomm, 100, \"meckPomm_demojized\")\n",
    "preprocessing(brandenburg, 100, \"brandenburg_demojized\")\n",
    "preprocessing(berlin, 8000, \"berlin_demojized\")\n",
    "\n",
    "## für politiker\n",
    "preprocessing(politikR, 8725, \"politikR_demojized\")"
   ]
  },
  {
   "cell_type": "code",
   "execution_count": 9,
   "id": "333fb076",
   "metadata": {},
   "outputs": [],
   "source": [
    "überregional = pd.read_csv(filepath_or_buffer=\"../../methods/representative-speech/regionalisierung/rest/ureg_discPow.csv\")\n",
    "örr = pd.read_csv(filepath_or_buffer=\"../../methods/representative-speech/regionalisierung/rest/orr_discPow.csv\")\n",
    "digitale = pd.read_csv(filepath_or_buffer=\"../../methods/representative-speech/regionalisierung/rest/digitale_discPow.csv\")"
   ]
  },
  {
   "cell_type": "code",
   "execution_count": 10,
   "id": "330d1b2e",
   "metadata": {},
   "outputs": [
    {
     "name": "stdout",
     "output_type": "stream",
     "text": [
      "Ausgangs-String: \n",
      "Annullierte Flüge: Keine Vorkasse mehr beim Ticketkauf? https://t.co/wTckXJuf0c #Airlines #Vorkasse\n",
      "\n",
      "Endprodukt preprocessing: \n",
      "annullierte flüge keine vorkasse mehr beim ticketkauf httpstcowtckxjuf0c airlines vorkasse\n",
      "Ausgangs-String: \n",
      "In #Schweinfurt wird es im Herbst keine #Unterfrankenschau \"ufra\" geben. Als Gründe nannte der Veranstalter zu große Risiken. Von @Norbert_Steiche https://t.co/9zBLKVjJ2t\n",
      "\n",
      "Endprodukt preprocessing: \n",
      "in schweinfurt wird es im herbst keine unterfrankenschau ufra geben als gründe nannte der veranstalter zu große risiken von @norbertsteiche httpstco9zblkvjj2t\n",
      "Ausgangs-String: \n",
      "Plettenberger Aufstieg in die Verbandsliga ist perfekt https://t.co/gIXvStDKuy\n",
      "\n",
      "Endprodukt preprocessing: \n",
      "plettenberger aufstieg in die verbandsliga ist perfekt httpstcogixvstdkuy\n"
     ]
    }
   ],
   "source": [
    "preprocessing(überregional, 8080, \"überregio_demojized\")\n",
    "preprocessing(örr, 8080, \"örr_demojized\")\n",
    "preprocessing(digitale, 8080, \"digitale_demojized\")"
   ]
  }
 ],
 "metadata": {
  "kernelspec": {
   "display_name": "Python 3 (ipykernel)",
   "language": "python",
   "name": "python3"
  },
  "language_info": {
   "codemirror_mode": {
    "name": "ipython",
    "version": 3
   },
   "file_extension": ".py",
   "mimetype": "text/x-python",
   "name": "python",
   "nbconvert_exporter": "python",
   "pygments_lexer": "ipython3",
   "version": "3.9.16"
  }
 },
 "nbformat": 4,
 "nbformat_minor": 5
}
