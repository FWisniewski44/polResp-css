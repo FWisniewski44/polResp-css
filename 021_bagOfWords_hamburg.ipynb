{
 "cells": [
  {
   "cell_type": "markdown",
   "id": "4291d3f5",
   "metadata": {},
   "source": [
    "# Hamburg"
   ]
  },
  {
   "cell_type": "code",
   "execution_count": 1,
   "id": "72d7f3ce",
   "metadata": {},
   "outputs": [],
   "source": [
    "# loading libs\n",
    "import pandas as pd\n",
    "import Stemmer\n",
    "from sklearn.feature_extraction.text import CountVectorizer\n",
    "from sklearn.feature_extraction.text import TfidfVectorizer\n",
    "import Stemmer"
   ]
  },
  {
   "cell_type": "code",
   "execution_count": 2,
   "id": "ede3f8c5",
   "metadata": {},
   "outputs": [
    {
     "name": "stderr",
     "output_type": "stream",
     "text": [
      "/tmp/ipykernel_15914/1363845087.py:5: DtypeWarning: Columns (12,13) have mixed types. Specify dtype option on import or set low_memory=False.\n",
      "  hamburg = pd.read_csv(\"../../methods/representative-speech/regionalisierung/demojized/hamburg_demojized.csv\", index_col=0)\n"
     ]
    }
   ],
   "source": [
    "# bayern = pd.read_csv(\"../../methods/representative-speech/regionalisierung/demojized/bayern_demojized.csv\", index_col=0)\n",
    "# bawü = pd.read_csv(\"../../methods/representative-speech/regionalisierung/demojized/bawü_demojized.csv\", index_col=0)\n",
    "# berlin = pd.read_csv(\"../../methods/representative-speech/regionalisierung/demojized/berlin_demojized.csv\", index_col=0)\n",
    "# bremen = pd.read_csv(\"../../methods/representative-speech/regionalisierung/demojized/bremen_demojized.csv\", index_col=0)\n",
    "hamburg = pd.read_csv(\"../../methods/representative-speech/regionalisierung/demojized/hamburg_demojized.csv\", index_col=0)\n",
    "# hessen = pd.read_csv(\"../../methods/representative-speech/regionalisierung/demojized/hessen_demojized.csv\", index_col=0)\n",
    "# brandenburg = pd.read_csv(\"../../methods/representative-speech/regionalisierung/demojized/brandenburg_demojized.csv\", index_col=0)\n",
    "# mecklenburg = pd.read_csv(\"../../methods/representative-speech/regionalisierung/demojized/meckPomm_demojized.csv\", index_col=0)\n",
    "# niedersachsen = pd.read_csv(\"../../methods/representative-speech/regionalisierung/demojized/niedersachsen_demojized.csv\", index_col=0)\n",
    "# nrw = pd.read_csv(\"../../methods/representative-speech/regionalisierung/demojized/nrw_demojized.csv\", index_col=0)\n",
    "# rlp = pd.read_csv(\"../../methods/representative-speech/regionalisierung/demojized/rlp_demojized.csv\", index_col=0)\n",
    "# saarland = pd.read_csv(\"../../methods/representative-speech/regionalisierung/demojized/saarland_demojized.csv\", index_col=0)\n",
    "# sachsen = pd.read_csv(\"../../methods/representative-speech/regionalisierung/demojized/sachsen_demojized.csv\", index_col=0)\n",
    "# sachsenAnhalt = pd.read_csv(\"../../methods/representative-speech/regionalisierung/demojized/sachsen_anhalt_demojized.csv\", index_col=0)\n",
    "# schleswig = pd.read_csv(\"../../methods/representative-speech/regionalisierung/demojized/schleswig_demojized.csv\", index_col=0)\n",
    "# thüringen = pd.read_csv(\"../../methods/representative-speech/regionalisierung/demojized/thüringen_demojized.csv\", index_col=0)"
   ]
  },
  {
   "cell_type": "code",
   "execution_count": null,
   "id": "976bd75b",
   "metadata": {},
   "outputs": [],
   "source": [
    "categoriesHamburg = {\n",
    "    '' : [],\n",
    "    \n",
    "    '' : [],\n",
    "}"
   ]
  },
  {
   "cell_type": "code",
   "execution_count": null,
   "id": "d55520d0",
   "metadata": {},
   "outputs": [],
   "source": [
    "dfsHamburg = []\n",
    "\n",
    "for key,values in categoriesHamburg.items():\n",
    "    words=pd.DataFrame({'category': key, 'term': values})\n",
    "    dfsHamburg.append(words)\n",
    "\n",
    "termsHamburg = pd.concat(dfsHamburg)\n",
    "termsHamburg"
   ]
  },
  {
   "cell_type": "code",
   "execution_count": null,
   "id": "c577c9b8",
   "metadata": {},
   "outputs": [],
   "source": [
    "# Take the 'term' column from our list of terms\n",
    "termlistHamburg = list(set(termsBremen.term))\n",
    "\n",
    "# binary=True only does 0/1\n",
    "# vocabulary= is the list of words we're interested in tracking\n",
    "vectorizer = TfidfVectorizer(binary=False, vocabulary = termlistHamburg)\n",
    "\n",
    "matrix = vectorizer.fit_transform(hamburg.text, )\n",
    "\n",
    "words_df = pd.DataFrame(matrix.toarray(), columns = vectorizer.get_feature_names_out())"
   ]
  },
  {
   "cell_type": "code",
   "execution_count": null,
   "id": "234a90ab",
   "metadata": {},
   "outputs": [],
   "source": [
    "# Group the terms by category, then loop through each category\n",
    "for category_name, rows in termsHamburg.groupby('category'):\n",
    "    # Convert the terms for that category into a simple list\n",
    "    # for example, ['student', 'educ', 'teacher']\n",
    "    terms = list(rows['term'])\n",
    "    print(f\"Looking at {category_name} with terms {terms}\")\n",
    "\n",
    "    # words_df[terms] gets the columns for 'student', 'educ', and 'teacher'\n",
    "    # .any(axis=1) sees if any of them are a 1, gives True/False\n",
    "    # .astype(int) converts True/False to 1/0\n",
    "    # df[category_name] = will assign that value to df['education']\n",
    "    hamburg[category_name] = words_df[terms].any(axis=1).astype(int)"
   ]
  },
  {
   "cell_type": "code",
   "execution_count": null,
   "id": "0ac19827",
   "metadata": {},
   "outputs": [],
   "source": [
    "hamburg.groupby('user').ukraine.sum().sort_values(ascending=False)"
   ]
  },
  {
   "cell_type": "code",
   "execution_count": null,
   "id": "0314fc82",
   "metadata": {},
   "outputs": [],
   "source": [
    "hamburg.groupby('user').sum()"
   ]
  },
  {
   "cell_type": "code",
   "execution_count": null,
   "id": "3e0f43ce",
   "metadata": {},
   "outputs": [],
   "source": [
    "hamburgCategorized = hamburg\n",
    "hamburgCategorized.to_csv(\"../../methods/representative-speech/mediendaten/zuordnungenBundesländer/hamburgCategorized.csv\")"
   ]
  }
 ],
 "metadata": {
  "kernelspec": {
   "display_name": "Python 3 (ipykernel)",
   "language": "python",
   "name": "python3"
  },
  "language_info": {
   "codemirror_mode": {
    "name": "ipython",
    "version": 3
   },
   "file_extension": ".py",
   "mimetype": "text/x-python",
   "name": "python",
   "nbconvert_exporter": "python",
   "pygments_lexer": "ipython3",
   "version": "3.9.16"
  }
 },
 "nbformat": 4,
 "nbformat_minor": 5
}
