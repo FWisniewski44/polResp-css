{
 "cells": [
  {
   "cell_type": "markdown",
   "id": "8dc4d757",
   "metadata": {},
   "source": [
    "# Sachsen"
   ]
  },
  {
   "cell_type": "code",
   "execution_count": 1,
   "id": "5e9f9b47",
   "metadata": {},
   "outputs": [],
   "source": [
    "# loading libs\n",
    "import pandas as pd\n",
    "import Stemmer\n",
    "from sklearn.feature_extraction.text import CountVectorizer\n",
    "from sklearn.feature_extraction.text import TfidfVectorizer\n",
    "import Stemmer"
   ]
  },
  {
   "cell_type": "code",
   "execution_count": 2,
   "id": "fe0002d5",
   "metadata": {},
   "outputs": [],
   "source": [
    "# bayern = pd.read_csv(\"../../methods/representative-speech/regionalisierung/demojized/bayern_demojized.csv\", index_col=0)\n",
    "# bawü = pd.read_csv(\"../../methods/representative-speech/regionalisierung/demojized/bawü_demojized.csv\", index_col=0)\n",
    "# berlin = pd.read_csv(\"../../methods/representative-speech/regionalisierung/demojized/berlin_demojized.csv\", index_col=0)\n",
    "# bremen = pd.read_csv(\"../../methods/representative-speech/regionalisierung/demojized/bremen_demojized.csv\", index_col=0)\n",
    "# hamburg = pd.read_csv(\"../../methods/representative-speech/regionalisierung/demojized/hamburg_demojized.csv\", index_col=0)\n",
    "# hessen = pd.read_csv(\"../../methods/representative-speech/regionalisierung/demojized/hessen_demojized.csv\", index_col=0)\n",
    "# brandenburg = pd.read_csv(\"../../methods/representative-speech/regionalisierung/demojized/brandenburg_demojized.csv\", index_col=0)\n",
    "# mecklenburg = pd.read_csv(\"../../methods/representative-speech/regionalisierung/demojized/meckPomm_demojized.csv\", index_col=0)\n",
    "# niedersachsen = pd.read_csv(\"../../methods/representative-speech/regionalisierung/demojized/niedersachsen_demojized.csv\", index_col=0)\n",
    "# nrw = pd.read_csv(\"../../methods/representative-speech/regionalisierung/demojized/nrw_demojized.csv\", index_col=0)\n",
    "# rlp = pd.read_csv(\"../../methods/representative-speech/regionalisierung/demojized/rlp_demojized.csv\", index_col=0)\n",
    "# saarland = pd.read_csv(\"../../methods/representative-speech/regionalisierung/demojized/saarland_demojized.csv\", index_col=0)\n",
    "sachsen = pd.read_csv(\"../../methods/representative-speech/regionalisierung/demojized/sachsen_demojized.csv\", index_col=0)\n",
    "# sachsenAnhalt = pd.read_csv(\"../../methods/representative-speech/regionalisierung/demojized/sachsen_anhalt_demojized.csv\", index_col=0)\n",
    "# schleswig = pd.read_csv(\"../../methods/representative-speech/regionalisierung/demojized/schleswig_demojized.csv\", index_col=0)\n",
    "# thüringen = pd.read_csv(\"../../methods/representative-speech/regionalisierung/demojized/thüringen_demojized.csv\", index_col=0)"
   ]
  },
  {
   "cell_type": "code",
   "execution_count": 3,
   "id": "98eaa448",
   "metadata": {},
   "outputs": [],
   "source": [
    "categoriesSachsen = {\n",
    "    'politik' : [kretschmer, cdu, ministerpräsident, politik, innenminister, bund, wöller, regierung, bundesregierung, schuster, grünen],\n",
    "    \n",
    "    'covid' : [corona-regeln, lockerungen, maskenpflicht, köpping],\n",
    "    \n",
    "    'lokalesLeipzig' : [],\n",
    "    \n",
    "    'waldbrändeSachsen' : [],\n",
    "    \n",
    "    'justiz' : [],\n",
    "    \n",
    "    'unglück' : [],\n",
    "    \n",
    "    'ukraine' : [],\n",
    "    \n",
    "    'kinderbetreuung' : [],\n",
    "    \n",
    "    'energiekrise' : [],\n",
    "    \n",
    "    'öpnvVerkehr' : []\n",
    "}"
   ]
  },
  {
   "cell_type": "code",
   "execution_count": null,
   "id": "48d5ce94",
   "metadata": {},
   "outputs": [],
   "source": []
  },
  {
   "cell_type": "code",
   "execution_count": null,
   "id": "9f351580",
   "metadata": {},
   "outputs": [],
   "source": []
  }
 ],
 "metadata": {
  "kernelspec": {
   "display_name": "Python 3 (ipykernel)",
   "language": "python",
   "name": "python3"
  },
  "language_info": {
   "codemirror_mode": {
    "name": "ipython",
    "version": 3
   },
   "file_extension": ".py",
   "mimetype": "text/x-python",
   "name": "python",
   "nbconvert_exporter": "python",
   "pygments_lexer": "ipython3",
   "version": "3.9.16"
  }
 },
 "nbformat": 4,
 "nbformat_minor": 5
}
