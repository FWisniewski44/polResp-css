{
 "cells": [
  {
   "cell_type": "markdown",
   "id": "e39f62d0",
   "metadata": {},
   "source": [
    "# Hessen"
   ]
  },
  {
   "cell_type": "code",
   "execution_count": 1,
   "id": "134ea9a3",
   "metadata": {},
   "outputs": [],
   "source": [
    "# loading libs\n",
    "import pandas as pd\n",
    "import Stemmer\n",
    "from sklearn.feature_extraction.text import CountVectorizer\n",
    "from sklearn.feature_extraction.text import TfidfVectorizer\n",
    "import Stemmer"
   ]
  },
  {
   "cell_type": "code",
   "execution_count": 2,
   "id": "e854a25a",
   "metadata": {},
   "outputs": [],
   "source": [
    "# bayern = pd.read_csv(\"../../methods/representative-speech/regionalisierung/demojized/bayern_demojized.csv\", index_col=0)\n",
    "# bawü = pd.read_csv(\"../../methods/representative-speech/regionalisierung/demojized/bawü_demojized.csv\", index_col=0)\n",
    "# berlin = pd.read_csv(\"../../methods/representative-speech/regionalisierung/demojized/berlin_demojized.csv\", index_col=0)\n",
    "# bremen = pd.read_csv(\"../../methods/representative-speech/regionalisierung/demojized/bremen_demojized.csv\", index_col=0)\n",
    "# hamburg = pd.read_csv(\"../../methods/representative-speech/regionalisierung/demojized/hamburg_demojized.csv\", index_col=0)\n",
    "hessen = pd.read_csv(\"../../methods/representative-speech/regionalisierung/demojized/hessen_demojized.csv\", index_col=0)\n",
    "# brandenburg = pd.read_csv(\"../../methods/representative-speech/regionalisierung/demojized/brandenburg_demojized.csv\", index_col=0)\n",
    "# mecklenburg = pd.read_csv(\"../../methods/representative-speech/regionalisierung/demojized/meckPomm_demojized.csv\", index_col=0)\n",
    "# niedersachsen = pd.read_csv(\"../../methods/representative-speech/regionalisierung/demojized/niedersachsen_demojized.csv\", index_col=0)\n",
    "# nrw = pd.read_csv(\"../../methods/representative-speech/regionalisierung/demojized/nrw_demojized.csv\", index_col=0)\n",
    "# rlp = pd.read_csv(\"../../methods/representative-speech/regionalisierung/demojized/rlp_demojized.csv\", index_col=0)\n",
    "# saarland = pd.read_csv(\"../../methods/representative-speech/regionalisierung/demojized/saarland_demojized.csv\", index_col=0)\n",
    "# sachsen = pd.read_csv(\"../../methods/representative-speech/regionalisierung/demojized/sachsen_demojized.csv\", index_col=0)\n",
    "# sachsenAnhalt = pd.read_csv(\"../../methods/representative-speech/regionalisierung/demojized/sachsen_anhalt_demojized.csv\", index_col=0)\n",
    "# schleswig = pd.read_csv(\"../../methods/representative-speech/regionalisierung/demojized/schleswig_demojized.csv\", index_col=0)\n",
    "# thüringen = pd.read_csv(\"../../methods/representative-speech/regionalisierung/demojized/thüringen_demojized.csv\", index_col=0)"
   ]
  },
  {
   "cell_type": "code",
   "execution_count": 3,
   "id": "9490c91f",
   "metadata": {},
   "outputs": [],
   "source": [
    "categoriesHessen = {\n",
    "    'politik' : ['bürgermeister', 'spd', 'cdu', 'grünen', 'feldmann', 'ministerpräsident', 'bouffier',\n",
    "                 'oberbürgermeister', 'amt', 'grüne'],\n",
    "    \n",
    "    'covid' : ['corona', 'pandemie', 'inzidenz', 'coronavirus', 'lauterbach', 'omikron', 'maskenpflicht', 'rki'],\n",
    "    \n",
    "    'energiekrise' : ['gas', 'preise', 'kosten', 'kunden', 'energiekrise', 'energie', 'sparen'],\n",
    "    \n",
    "    'lokalesHessen' : ['nidda', 'schotten', 'gedern', 'ortenberg', 'neu-anspach', 'florstadt', 'wehrheim', ],\n",
    "    \n",
    "    'justiz' : ['fall', 'staatsanwaltschaft', 'gericht', 'prozess', 'opfer', 'ermittlungen', 'urteil', 'tod'],\n",
    "    \n",
    "    'unglück' : ['polizei', 'verletzt', 'unfall', 'feuerwehr', 'einsatz', 'täter', 'unbekannte',\n",
    "                 'ermittelt', 'zeugen', 'brand', 'feuer'],\n",
    "    \n",
    "    'kunstKultur' : ['besucher', 'programm', 'musik', 'geschichte', 'konzert', 'veranstaltungen',\n",
    "                     'bühne', 'publikum'],\n",
    "    \n",
    "    'ukraine' : ['ukraine', 'russland', 'krieg', 'putin', 'ukrainische', 'russischen', 'russische',\n",
    "                 'flüchtlinge', 'ukrainischen', 'ukraine-krieg', 'geflüchtete', 'angriff', 'sanktionen'],\n",
    "    \n",
    "    'multimedia' : ['podcasts', 'folge', 'online', 'hören', 'spotify', 'podcast', 'ausgabe', 'reinhören'],\n",
    "    \n",
    "    'kinderbetreuung' : ['kinder', 'eltern', 'schüler', 'schulen', 'schule', 'kindern', 'junge', 'jugendliche'],\n",
    "    \n",
    "    'wirtschaftsnachrichten' : ['inflation', 'dax', 'unternehmen', 'märkte', 'ezb', 'markt',\n",
    "                                'wirtschaft', 'börsen-zeitung']\n",
    "}"
   ]
  },
  {
   "cell_type": "code",
   "execution_count": 5,
   "id": "b02948b2",
   "metadata": {},
   "outputs": [
    {
     "data": {
      "text/html": [
       "<div>\n",
       "<style scoped>\n",
       "    .dataframe tbody tr th:only-of-type {\n",
       "        vertical-align: middle;\n",
       "    }\n",
       "\n",
       "    .dataframe tbody tr th {\n",
       "        vertical-align: top;\n",
       "    }\n",
       "\n",
       "    .dataframe thead th {\n",
       "        text-align: right;\n",
       "    }\n",
       "</style>\n",
       "<table border=\"1\" class=\"dataframe\">\n",
       "  <thead>\n",
       "    <tr style=\"text-align: right;\">\n",
       "      <th></th>\n",
       "      <th>category</th>\n",
       "      <th>term</th>\n",
       "    </tr>\n",
       "  </thead>\n",
       "  <tbody>\n",
       "    <tr>\n",
       "      <th>0</th>\n",
       "      <td>politik</td>\n",
       "      <td>bürgermeister</td>\n",
       "    </tr>\n",
       "    <tr>\n",
       "      <th>1</th>\n",
       "      <td>politik</td>\n",
       "      <td>spd</td>\n",
       "    </tr>\n",
       "    <tr>\n",
       "      <th>2</th>\n",
       "      <td>politik</td>\n",
       "      <td>cdu</td>\n",
       "    </tr>\n",
       "    <tr>\n",
       "      <th>3</th>\n",
       "      <td>politik</td>\n",
       "      <td>grünen</td>\n",
       "    </tr>\n",
       "    <tr>\n",
       "      <th>4</th>\n",
       "      <td>politik</td>\n",
       "      <td>feldmann</td>\n",
       "    </tr>\n",
       "    <tr>\n",
       "      <th>...</th>\n",
       "      <td>...</td>\n",
       "      <td>...</td>\n",
       "    </tr>\n",
       "    <tr>\n",
       "      <th>3</th>\n",
       "      <td>wirtschaftsnachrichten</td>\n",
       "      <td>märkte</td>\n",
       "    </tr>\n",
       "    <tr>\n",
       "      <th>4</th>\n",
       "      <td>wirtschaftsnachrichten</td>\n",
       "      <td>ezb</td>\n",
       "    </tr>\n",
       "    <tr>\n",
       "      <th>5</th>\n",
       "      <td>wirtschaftsnachrichten</td>\n",
       "      <td>markt</td>\n",
       "    </tr>\n",
       "    <tr>\n",
       "      <th>6</th>\n",
       "      <td>wirtschaftsnachrichten</td>\n",
       "      <td>wirtschaft</td>\n",
       "    </tr>\n",
       "    <tr>\n",
       "      <th>7</th>\n",
       "      <td>wirtschaftsnachrichten</td>\n",
       "      <td>börsen-zeitung</td>\n",
       "    </tr>\n",
       "  </tbody>\n",
       "</table>\n",
       "<p>96 rows × 2 columns</p>\n",
       "</div>"
      ],
      "text/plain": [
       "                  category            term\n",
       "0                  politik   bürgermeister\n",
       "1                  politik             spd\n",
       "2                  politik             cdu\n",
       "3                  politik          grünen\n",
       "4                  politik        feldmann\n",
       "..                     ...             ...\n",
       "3   wirtschaftsnachrichten          märkte\n",
       "4   wirtschaftsnachrichten             ezb\n",
       "5   wirtschaftsnachrichten           markt\n",
       "6   wirtschaftsnachrichten      wirtschaft\n",
       "7   wirtschaftsnachrichten  börsen-zeitung\n",
       "\n",
       "[96 rows x 2 columns]"
      ]
     },
     "execution_count": 5,
     "metadata": {},
     "output_type": "execute_result"
    }
   ],
   "source": [
    "dfsHessen = []\n",
    "\n",
    "for key,values in categoriesHessen.items():\n",
    "    words=pd.DataFrame({'category': key, 'term': values})\n",
    "    dfsHessen.append(words)\n",
    "\n",
    "termsHessen = pd.concat(dfsHessen)\n",
    "termsHessen"
   ]
  },
  {
   "cell_type": "code",
   "execution_count": 7,
   "id": "f864038d",
   "metadata": {},
   "outputs": [],
   "source": [
    "# Take the 'term' column from our list of terms\n",
    "termlistHessen = list(set(termsHessen.term))\n",
    "\n",
    "# binary=True only does 0/1\n",
    "# vocabulary= is the list of words we're interested in tracking\n",
    "vectorizer = TfidfVectorizer(binary=False, vocabulary = termlistHessen)\n",
    "\n",
    "matrix = vectorizer.fit_transform(hessen.text, )\n",
    "\n",
    "words_df = pd.DataFrame(matrix.toarray(), columns = vectorizer.get_feature_names_out())"
   ]
  },
  {
   "cell_type": "code",
   "execution_count": 8,
   "id": "f0dfa114",
   "metadata": {},
   "outputs": [
    {
     "name": "stdout",
     "output_type": "stream",
     "text": [
      "Topic: covid \n",
      "Worte: ['corona', 'pandemie', 'inzidenz', 'coronavirus', 'lauterbach', 'omikron', 'maskenpflicht', 'rki'] \n",
      "\n",
      "Topic: energiekrise \n",
      "Worte: ['gas', 'preise', 'kosten', 'kunden', 'energiekrise', 'energie', 'sparen'] \n",
      "\n",
      "Topic: justiz \n",
      "Worte: ['fall', 'staatsanwaltschaft', 'gericht', 'prozess', 'opfer', 'ermittlungen', 'urteil', 'tod'] \n",
      "\n",
      "Topic: kinderbetreuung \n",
      "Worte: ['kinder', 'eltern', 'schüler', 'schulen', 'schule', 'kindern', 'junge', 'jugendliche'] \n",
      "\n",
      "Topic: kunstKultur \n",
      "Worte: ['besucher', 'programm', 'musik', 'geschichte', 'konzert', 'veranstaltungen', 'bühne', 'publikum'] \n",
      "\n",
      "Topic: lokalesHessen \n",
      "Worte: ['nidda', 'schotten', 'gedern', 'ortenberg', 'neu-anspach', 'florstadt', 'wehrheim'] \n",
      "\n",
      "Topic: multimedia \n",
      "Worte: ['podcasts', 'folge', 'online', 'hören', 'spotify', 'podcast', 'ausgabe', 'reinhören'] \n",
      "\n",
      "Topic: politik \n",
      "Worte: ['bürgermeister', 'spd', 'cdu', 'grünen', 'feldmann', 'ministerpräsident', 'bouffier', 'oberbürgermeister', 'amt', 'grüne'] \n",
      "\n",
      "Topic: ukraine \n",
      "Worte: ['ukraine', 'russland', 'krieg', 'putin', 'ukrainische', 'russischen', 'russische', 'flüchtlinge', 'ukrainischen', 'ukraine-krieg', 'geflüchtete', 'angriff', 'sanktionen'] \n",
      "\n",
      "Topic: unglück \n",
      "Worte: ['polizei', 'verletzt', 'unfall', 'feuerwehr', 'einsatz', 'täter', 'unbekannte', 'ermittelt', 'zeugen', 'brand', 'feuer'] \n",
      "\n",
      "Topic: wirtschaftsnachrichten \n",
      "Worte: ['inflation', 'dax', 'unternehmen', 'märkte', 'ezb', 'markt', 'wirtschaft', 'börsen-zeitung'] \n",
      "\n"
     ]
    }
   ],
   "source": [
    "# Group the terms by category, then loop through each category\n",
    "for category_name, rows in termsHessen.groupby('category'):\n",
    "    # Convert the terms for that category into a simple list\n",
    "    # for example, ['student', 'educ', 'teacher']\n",
    "    terms = list(rows['term'])\n",
    "    print(f\"Topic: {category_name} \\nWorte: {terms} \\n\")\n",
    "\n",
    "    # words_df[terms] gets the columns for 'student', 'educ', and 'teacher'\n",
    "    # .any(axis=1) sees if any of them are a 1, gives True/False\n",
    "    # .astype(int) converts True/False to 1/0\n",
    "    # df[category_name] = will assign that value to df['education']\n",
    "    hessen[category_name] = words_df[terms].any(axis=1).astype(int)"
   ]
  },
  {
   "cell_type": "code",
   "execution_count": 11,
   "id": "f29f8ab9",
   "metadata": {},
   "outputs": [
    {
     "data": {
      "text/plain": [
       "user\n",
       "fnp_zeitung       997\n",
       "Echo_Online       472\n",
       "wknachrichten     249\n",
       "mittelhessende    191\n",
       "mspnachrichten     97\n",
       "HNA_online         68\n",
       "boersenzeitung     65\n",
       "oberhessische      64\n",
       "fuldaerzeitung     55\n",
       "KAgezwitscher      47\n",
       "opmarburg           9\n",
       "Name: politik, dtype: int64"
      ]
     },
     "execution_count": 11,
     "metadata": {},
     "output_type": "execute_result"
    }
   ],
   "source": [
    "hessen.groupby('user').politik.sum().sort_values(ascending=False)"
   ]
  },
  {
   "cell_type": "code",
   "execution_count": 12,
   "id": "03d9dd80",
   "metadata": {},
   "outputs": [],
   "source": [
    "# hessen.groupby('user').sum()"
   ]
  },
  {
   "cell_type": "code",
   "execution_count": 13,
   "id": "99c4f036",
   "metadata": {},
   "outputs": [],
   "source": [
    "hessenCategorized = hessen\n",
    "hessenCategorized.to_csv(\"../../methods/representative-speech/mediendaten/zuordnungenBundesländer/hessenCategorized.csv\")"
   ]
  }
 ],
 "metadata": {
  "kernelspec": {
   "display_name": "Python 3 (ipykernel)",
   "language": "python",
   "name": "python3"
  },
  "language_info": {
   "codemirror_mode": {
    "name": "ipython",
    "version": 3
   },
   "file_extension": ".py",
   "mimetype": "text/x-python",
   "name": "python",
   "nbconvert_exporter": "python",
   "pygments_lexer": "ipython3",
   "version": "3.9.16"
  }
 },
 "nbformat": 4,
 "nbformat_minor": 5
}
