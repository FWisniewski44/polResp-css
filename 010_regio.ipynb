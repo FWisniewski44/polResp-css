{
 "cells": [
  {
   "cell_type": "markdown",
   "id": "e05ae74f",
   "metadata": {},
   "source": [
    "# Bag of Words-Modell regionaler Medien in Deutschland"
   ]
  },
  {
   "cell_type": "code",
   "execution_count": 1,
   "id": "c3b62aea",
   "metadata": {},
   "outputs": [],
   "source": [
    "import pandas as pd\n",
    "import numpy as np\n",
    "import Stemmer"
   ]
  },
  {
   "cell_type": "markdown",
   "id": "2bc4f78d",
   "metadata": {},
   "source": [
    "## Import Datensatz"
   ]
  },
  {
   "cell_type": "code",
   "execution_count": 2,
   "id": "d40a8640",
   "metadata": {},
   "outputs": [
    {
     "name": "stderr",
     "output_type": "stream",
     "text": [
      "/tmp/ipykernel_12908/3833413706.py:2: DtypeWarning: Columns (10,12,13,14,15) have mixed types. Specify dtype option on import or set low_memory=False.\n",
      "  regio = pd.read_csv(\"mergerDaten/regioGes.csv\", index_col=0)\n"
     ]
    }
   ],
   "source": [
    "# ureg = pd.read_csv(\"mergerDaten/uregGes.csv\", index_col=0)\n",
    "regio = pd.read_csv(\"mergerDaten/regioGes.csv\", index_col=0)\n",
    "# digi = pd.read_csv(\"mergerDaten/digiGes.csv\", index_col=0)\n",
    "# ges = pd.read_csv(\"mergerDaten/gesamtMedien.csv\")"
   ]
  },
  {
   "cell_type": "markdown",
   "id": "00968bcf",
   "metadata": {},
   "source": [
    "## Festlegung Kategorien\n",
    "\n",
    "Entstanden aus Topic Models aller Tweets, über regionale Grenzen hinweg. Heißt: momentan alle regionalen Zeitungen auf einem Haufen. Wenig Informationsgehalt zu versprechen bzw. wenig Granularität, weil die Würze darin liegt, nach Bundesländern zu sortieren."
   ]
  },
  {
   "cell_type": "code",
   "execution_count": null,
   "id": "1bd75dde",
   "metadata": {},
   "outputs": [],
   "source": [
    "categories_regio = {\n",
    "    '': [],\n",
    "}"
   ]
  },
  {
   "cell_type": "markdown",
   "id": "a3023dc5",
   "metadata": {},
   "source": [
    "## Vorbereitung der Daten\n",
    "\n",
    "Stemming (kann auch nochmal überdacht werden, ob man nicht einfach das Stemming weglässt und nach den ursprünglichen Keywords sucht)\n",
    "\n",
    "Ausgabe der Terms\n",
    "\n"
   ]
  },
  {
   "cell_type": "code",
   "execution_count": null,
   "id": "69d78c4c",
   "metadata": {},
   "outputs": [],
   "source": [
    "stemmer = Stemmer.Stemmer('de')\n",
    "\n",
    "dfs_ureg = []\n",
    "\n",
    "for key,values in categories_ureg.items():\n",
    "    words=pd.DataFrame({'category': key, 'term': stemmer.stemWords(values)})\n",
    "    dfs_ureg.append(words)"
   ]
  },
  {
   "cell_type": "code",
   "execution_count": null,
   "id": "b60bfbda",
   "metadata": {},
   "outputs": [],
   "source": []
  }
 ],
 "metadata": {
  "kernelspec": {
   "display_name": "Python 3 (ipykernel)",
   "language": "python",
   "name": "python3"
  },
  "language_info": {
   "codemirror_mode": {
    "name": "ipython",
    "version": 3
   },
   "file_extension": ".py",
   "mimetype": "text/x-python",
   "name": "python",
   "nbconvert_exporter": "python",
   "pygments_lexer": "ipython3",
   "version": "3.9.16"
  }
 },
 "nbformat": 4,
 "nbformat_minor": 5
}
